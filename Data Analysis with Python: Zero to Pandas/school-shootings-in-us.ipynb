{
 "cells": [
  {
   "cell_type": "markdown",
   "metadata": {},
   "source": [
    "# School Shootings in the US\n",
    "\n",
    "Author: Jackie Huang\n",
    "\n",
    "#### This project contains the data record of all the school shootings occurred since the Columbine High massacre on April 20, 1999. \n",
    "\n",
    "This project is part of the Data Analysis with Python: Zeros to Pandas course - www.zerostopandas.com\n"
   ]
  },
  {
   "cell_type": "markdown",
   "metadata": {},
   "source": [
    "The libraries that I used for this project are:\n",
    "\n",
    "- Jovian\n",
    "- Pandas\n",
    "- Numpy\n",
    "- Matplotlib\n",
    "- Seaborn\n",
    "    "
   ]
  },
  {
   "cell_type": "code",
   "execution_count": 1,
   "metadata": {},
   "outputs": [],
   "source": [
    "!pip install jovian opendatasets --upgrade --quiet"
   ]
  },
  {
   "cell_type": "markdown",
   "metadata": {},
   "source": [
    "Let's begin by downloading the data, and listing the files within the dataset."
   ]
  },
  {
   "cell_type": "code",
   "execution_count": 2,
   "metadata": {},
   "outputs": [],
   "source": [
    "dataset_url = 'https://www.kaggle.com/datasets/joebeachcapital/school-shootings' "
   ]
  },
  {
   "cell_type": "code",
   "execution_count": 3,
   "metadata": {},
   "outputs": [
    {
     "name": "stdout",
     "output_type": "stream",
     "text": [
      "Please provide your Kaggle credentials to download this dataset. Learn more: http://bit.ly/kaggle-creds\n",
      "Your Kaggle username: jhzone88\n",
      "Your Kaggle Key: ········\n",
      "Downloading school-shootings.zip to ./school-shootings\n"
     ]
    },
    {
     "name": "stderr",
     "output_type": "stream",
     "text": [
      "100%|██████████| 36.3k/36.3k [00:00<00:00, 161kB/s]"
     ]
    },
    {
     "name": "stdout",
     "output_type": "stream",
     "text": [
      "\n"
     ]
    },
    {
     "name": "stderr",
     "output_type": "stream",
     "text": [
      "\n"
     ]
    }
   ],
   "source": [
    "import opendatasets as od\n",
    "od.download(dataset_url)"
   ]
  },
  {
   "cell_type": "markdown",
   "metadata": {},
   "source": [
    "The dataset has been downloaded and extracted."
   ]
  },
  {
   "cell_type": "code",
   "execution_count": 4,
   "metadata": {},
   "outputs": [],
   "source": [
    "data_dir = './school-shootings'"
   ]
  },
  {
   "cell_type": "code",
   "execution_count": 5,
   "metadata": {},
   "outputs": [
    {
     "data": {
      "text/plain": [
       "['school-shootings-data.csv']"
      ]
     },
     "execution_count": 5,
     "metadata": {},
     "output_type": "execute_result"
    }
   ],
   "source": [
    "import os\n",
    "os.listdir(data_dir)"
   ]
  },
  {
   "cell_type": "markdown",
   "metadata": {},
   "source": [
    "Let us save and upload our work to Jovian before continuing."
   ]
  },
  {
   "cell_type": "code",
   "execution_count": 6,
   "metadata": {},
   "outputs": [],
   "source": [
    "project_name = \"school-shootings-in-us\" "
   ]
  },
  {
   "cell_type": "code",
   "execution_count": 7,
   "metadata": {},
   "outputs": [],
   "source": [
    "!pip install jovian --upgrade -q"
   ]
  },
  {
   "cell_type": "code",
   "execution_count": 8,
   "metadata": {},
   "outputs": [],
   "source": [
    "import jovian"
   ]
  },
  {
   "cell_type": "code",
   "execution_count": 9,
   "metadata": {},
   "outputs": [
    {
     "data": {
      "application/javascript": [
       "window.require && require([\"base/js/namespace\"],function(Jupyter){Jupyter.notebook.save_checkpoint()})"
      ],
      "text/plain": [
       "<IPython.core.display.Javascript object>"
      ]
     },
     "metadata": {},
     "output_type": "display_data"
    },
    {
     "name": "stdout",
     "output_type": "stream",
     "text": [
      "[jovian] Updating notebook \"jhzone777228812/school-shootings-in-us\" on https://jovian.com\u001b[0m\n",
      "[jovian] Committed successfully! https://jovian.com/jhzone777228812/school-shootings-in-us\u001b[0m\n"
     ]
    },
    {
     "data": {
      "text/plain": [
       "'https://jovian.com/jhzone777228812/school-shootings-in-us'"
      ]
     },
     "execution_count": 9,
     "metadata": {},
     "output_type": "execute_result"
    }
   ],
   "source": [
    "jovian.commit(project=project_name)"
   ]
  },
  {
   "cell_type": "code",
   "execution_count": 10,
   "metadata": {},
   "outputs": [],
   "source": [
    "import pandas as pd\n",
    "import seaborn as sns\n",
    "import numpy as np\n",
    "import matplotlib\n",
    "import matplotlib.pyplot as plt\n",
    "%matplotlib inline\n",
    "\n",
    "sns.set_style('darkgrid')\n",
    "matplotlib.rcParams['font.size'] = 14\n",
    "matplotlib.rcParams['figure.figsize'] = (9, 5)\n",
    "matplotlib.rcParams['figure.facecolor'] = '#00000000'"
   ]
  },
  {
   "cell_type": "markdown",
   "metadata": {},
   "source": [
    "## Reading the csv file"
   ]
  },
  {
   "cell_type": "code",
   "execution_count": 11,
   "metadata": {},
   "outputs": [],
   "source": [
    "school_shootings_df = pd.read_csv('./school-shootings/school-shootings-data.csv')"
   ]
  },
  {
   "cell_type": "code",
   "execution_count": 12,
   "metadata": {
    "scrolled": false
   },
   "outputs": [
    {
     "data": {
      "text/html": [
       "<div>\n",
       "<style scoped>\n",
       "    .dataframe tbody tr th:only-of-type {\n",
       "        vertical-align: middle;\n",
       "    }\n",
       "\n",
       "    .dataframe tbody tr th {\n",
       "        vertical-align: top;\n",
       "    }\n",
       "\n",
       "    .dataframe thead th {\n",
       "        text-align: right;\n",
       "    }\n",
       "</style>\n",
       "<table border=\"1\" class=\"dataframe\">\n",
       "  <thead>\n",
       "    <tr style=\"text-align: right;\">\n",
       "      <th></th>\n",
       "      <th>uid</th>\n",
       "      <th>nces_school_id</th>\n",
       "      <th>school_name</th>\n",
       "      <th>nces_district_id</th>\n",
       "      <th>district_name</th>\n",
       "      <th>date</th>\n",
       "      <th>school_year</th>\n",
       "      <th>year</th>\n",
       "      <th>time</th>\n",
       "      <th>day_of_week</th>\n",
       "      <th>...</th>\n",
       "      <th>lat</th>\n",
       "      <th>long</th>\n",
       "      <th>staffing</th>\n",
       "      <th>low_grade</th>\n",
       "      <th>high_grade</th>\n",
       "      <th>lunch</th>\n",
       "      <th>county</th>\n",
       "      <th>state_fips</th>\n",
       "      <th>county_fips</th>\n",
       "      <th>ulocale</th>\n",
       "    </tr>\n",
       "  </thead>\n",
       "  <tbody>\n",
       "    <tr>\n",
       "      <th>0</th>\n",
       "      <td>1</td>\n",
       "      <td>080480000707</td>\n",
       "      <td>Columbine High School</td>\n",
       "      <td>804800.0</td>\n",
       "      <td>Jefferson County R-1</td>\n",
       "      <td>4/20/1999</td>\n",
       "      <td>1998-1999</td>\n",
       "      <td>1999</td>\n",
       "      <td>11:19 AM</td>\n",
       "      <td>Tuesday</td>\n",
       "      <td>...</td>\n",
       "      <td>39.603910</td>\n",
       "      <td>-105.075000</td>\n",
       "      <td>89.60</td>\n",
       "      <td>9</td>\n",
       "      <td>12</td>\n",
       "      <td>41</td>\n",
       "      <td>Jefferson County</td>\n",
       "      <td>8</td>\n",
       "      <td>8059</td>\n",
       "      <td>21.0</td>\n",
       "    </tr>\n",
       "    <tr>\n",
       "      <th>1</th>\n",
       "      <td>2</td>\n",
       "      <td>220054000422</td>\n",
       "      <td>Scotlandville Middle School</td>\n",
       "      <td>2200540.0</td>\n",
       "      <td>East Baton Rouge Parish School Board</td>\n",
       "      <td>4/22/1999</td>\n",
       "      <td>1998-1999</td>\n",
       "      <td>1999</td>\n",
       "      <td>12:30 PM</td>\n",
       "      <td>Thursday</td>\n",
       "      <td>...</td>\n",
       "      <td>30.529958</td>\n",
       "      <td>-91.169966</td>\n",
       "      <td>39.00</td>\n",
       "      <td>6</td>\n",
       "      <td>8</td>\n",
       "      <td>495</td>\n",
       "      <td>East Baton Rouge Parish</td>\n",
       "      <td>22</td>\n",
       "      <td>22033</td>\n",
       "      <td>12.0</td>\n",
       "    </tr>\n",
       "    <tr>\n",
       "      <th>2</th>\n",
       "      <td>3</td>\n",
       "      <td>130441001591</td>\n",
       "      <td>Heritage High School</td>\n",
       "      <td>1304410.0</td>\n",
       "      <td>Rockdale County</td>\n",
       "      <td>5/20/1999</td>\n",
       "      <td>1998-1999</td>\n",
       "      <td>1999</td>\n",
       "      <td>8:03 AM</td>\n",
       "      <td>Thursday</td>\n",
       "      <td>...</td>\n",
       "      <td>33.626922</td>\n",
       "      <td>-84.047960</td>\n",
       "      <td>84.00</td>\n",
       "      <td>9</td>\n",
       "      <td>12</td>\n",
       "      <td>125</td>\n",
       "      <td>Rockdale County</td>\n",
       "      <td>13</td>\n",
       "      <td>13247</td>\n",
       "      <td>21.0</td>\n",
       "    </tr>\n",
       "    <tr>\n",
       "      <th>3</th>\n",
       "      <td>4</td>\n",
       "      <td>421899003847</td>\n",
       "      <td>John Bartram High School</td>\n",
       "      <td>4218990.0</td>\n",
       "      <td>Philadelphia City SD</td>\n",
       "      <td>10/4/1999</td>\n",
       "      <td>1999-2000</td>\n",
       "      <td>1999</td>\n",
       "      <td>10:00 AM</td>\n",
       "      <td>Monday</td>\n",
       "      <td>...</td>\n",
       "      <td>39.921509</td>\n",
       "      <td>-75.234108</td>\n",
       "      <td>41.00</td>\n",
       "      <td>9</td>\n",
       "      <td>12</td>\n",
       "      <td>2007</td>\n",
       "      <td>Philadelphia County</td>\n",
       "      <td>42</td>\n",
       "      <td>42101</td>\n",
       "      <td>11.0</td>\n",
       "    </tr>\n",
       "    <tr>\n",
       "      <th>4</th>\n",
       "      <td>5</td>\n",
       "      <td>250279000225</td>\n",
       "      <td>Dorchester High School</td>\n",
       "      <td>2502790.0</td>\n",
       "      <td>Boston</td>\n",
       "      <td>11/3/1999</td>\n",
       "      <td>1999-2000</td>\n",
       "      <td>1999</td>\n",
       "      <td>7:40 AM</td>\n",
       "      <td>Wednesday</td>\n",
       "      <td>...</td>\n",
       "      <td>42.285268</td>\n",
       "      <td>-71.075901</td>\n",
       "      <td>NaN</td>\n",
       "      <td>9</td>\n",
       "      <td>12</td>\n",
       "      <td>543</td>\n",
       "      <td>Suffolk County</td>\n",
       "      <td>25</td>\n",
       "      <td>25025</td>\n",
       "      <td>11.0</td>\n",
       "    </tr>\n",
       "    <tr>\n",
       "      <th>...</th>\n",
       "      <td>...</td>\n",
       "      <td>...</td>\n",
       "      <td>...</td>\n",
       "      <td>...</td>\n",
       "      <td>...</td>\n",
       "      <td>...</td>\n",
       "      <td>...</td>\n",
       "      <td>...</td>\n",
       "      <td>...</td>\n",
       "      <td>...</td>\n",
       "      <td>...</td>\n",
       "      <td>...</td>\n",
       "      <td>...</td>\n",
       "      <td>...</td>\n",
       "      <td>...</td>\n",
       "      <td>...</td>\n",
       "      <td>...</td>\n",
       "      <td>...</td>\n",
       "      <td>...</td>\n",
       "      <td>...</td>\n",
       "      <td>...</td>\n",
       "    </tr>\n",
       "    <tr>\n",
       "      <th>382</th>\n",
       "      <td>386</td>\n",
       "      <td>421899007517</td>\n",
       "      <td>E. Washington Rhodes Elementary School</td>\n",
       "      <td>4218990.0</td>\n",
       "      <td>Philadelphia City Sd</td>\n",
       "      <td>5/8/2023</td>\n",
       "      <td>2022-2023</td>\n",
       "      <td>2023</td>\n",
       "      <td>11:30 AM</td>\n",
       "      <td>Monday</td>\n",
       "      <td>...</td>\n",
       "      <td>40.002800</td>\n",
       "      <td>-75.178100</td>\n",
       "      <td>41.37</td>\n",
       "      <td>KG</td>\n",
       "      <td>8</td>\n",
       "      <td>403</td>\n",
       "      <td>Philadelphia County</td>\n",
       "      <td>42</td>\n",
       "      <td>42101</td>\n",
       "      <td>11.0</td>\n",
       "    </tr>\n",
       "    <tr>\n",
       "      <th>383</th>\n",
       "      <td>387</td>\n",
       "      <td>110003000008</td>\n",
       "      <td>Roosevelt High School</td>\n",
       "      <td>1100030.0</td>\n",
       "      <td>District Of Columbia Public Schools</td>\n",
       "      <td>5/17/2023</td>\n",
       "      <td>2022-2023</td>\n",
       "      <td>2023</td>\n",
       "      <td>2:25 PM</td>\n",
       "      <td>Wednesday</td>\n",
       "      <td>...</td>\n",
       "      <td>38.942971</td>\n",
       "      <td>-77.029177</td>\n",
       "      <td>67.90</td>\n",
       "      <td>9</td>\n",
       "      <td>12</td>\n",
       "      <td>392</td>\n",
       "      <td>District Of Columbia</td>\n",
       "      <td>11</td>\n",
       "      <td>11001</td>\n",
       "      <td>11.0</td>\n",
       "    </tr>\n",
       "    <tr>\n",
       "      <th>384</th>\n",
       "      <td>390</td>\n",
       "      <td>00600937</td>\n",
       "      <td>St. John's Prep</td>\n",
       "      <td>NaN</td>\n",
       "      <td>NaN</td>\n",
       "      <td>5/22/2023</td>\n",
       "      <td>2022-2023</td>\n",
       "      <td>2023</td>\n",
       "      <td>NaN</td>\n",
       "      <td>Monday</td>\n",
       "      <td>...</td>\n",
       "      <td>42.582682</td>\n",
       "      <td>-70.952603</td>\n",
       "      <td>176.30</td>\n",
       "      <td>6</td>\n",
       "      <td>12</td>\n",
       "      <td>NaN</td>\n",
       "      <td>Essex County</td>\n",
       "      <td>25</td>\n",
       "      <td>25009</td>\n",
       "      <td>21.0</td>\n",
       "    </tr>\n",
       "    <tr>\n",
       "      <th>385</th>\n",
       "      <td>389</td>\n",
       "      <td>421917006047</td>\n",
       "      <td>Oliver Citywide Academy</td>\n",
       "      <td>4219170.0</td>\n",
       "      <td>Pittsburgh Sd</td>\n",
       "      <td>5/24/2023</td>\n",
       "      <td>2022-2023</td>\n",
       "      <td>2023</td>\n",
       "      <td>7:30 AM</td>\n",
       "      <td>Wednesday</td>\n",
       "      <td>...</td>\n",
       "      <td>40.464327</td>\n",
       "      <td>-80.024121</td>\n",
       "      <td>22.63</td>\n",
       "      <td>3</td>\n",
       "      <td>12</td>\n",
       "      <td>88</td>\n",
       "      <td>Allegheny County</td>\n",
       "      <td>42</td>\n",
       "      <td>42003</td>\n",
       "      <td>11.0</td>\n",
       "    </tr>\n",
       "    <tr>\n",
       "      <th>386</th>\n",
       "      <td>391</td>\n",
       "      <td>260021001494</td>\n",
       "      <td>Michigan Collegiate High School</td>\n",
       "      <td>2600210.0</td>\n",
       "      <td>Conner Creek Academy East</td>\n",
       "      <td>6/5/2023</td>\n",
       "      <td>2022-2023</td>\n",
       "      <td>2023</td>\n",
       "      <td>2:40 PM</td>\n",
       "      <td>Monday</td>\n",
       "      <td>...</td>\n",
       "      <td>42.522585</td>\n",
       "      <td>-83.066681</td>\n",
       "      <td>24.84</td>\n",
       "      <td>6</td>\n",
       "      <td>12</td>\n",
       "      <td>595</td>\n",
       "      <td>Macomb County</td>\n",
       "      <td>26</td>\n",
       "      <td>26099</td>\n",
       "      <td>12.0</td>\n",
       "    </tr>\n",
       "  </tbody>\n",
       "</table>\n",
       "<p>387 rows × 50 columns</p>\n",
       "</div>"
      ],
      "text/plain": [
       "     uid nces_school_id                             school_name  \\\n",
       "0      1   080480000707                   Columbine High School   \n",
       "1      2   220054000422             Scotlandville Middle School   \n",
       "2      3   130441001591                    Heritage High School   \n",
       "3      4   421899003847                John Bartram High School   \n",
       "4      5   250279000225                  Dorchester High School   \n",
       "..   ...            ...                                     ...   \n",
       "382  386   421899007517  E. Washington Rhodes Elementary School   \n",
       "383  387   110003000008                   Roosevelt High School   \n",
       "384  390       00600937                         St. John's Prep   \n",
       "385  389   421917006047                 Oliver Citywide Academy   \n",
       "386  391   260021001494         Michigan Collegiate High School   \n",
       "\n",
       "     nces_district_id                         district_name       date  \\\n",
       "0            804800.0                  Jefferson County R-1  4/20/1999   \n",
       "1           2200540.0  East Baton Rouge Parish School Board  4/22/1999   \n",
       "2           1304410.0                       Rockdale County  5/20/1999   \n",
       "3           4218990.0                  Philadelphia City SD  10/4/1999   \n",
       "4           2502790.0                                Boston  11/3/1999   \n",
       "..                ...                                   ...        ...   \n",
       "382         4218990.0                  Philadelphia City Sd   5/8/2023   \n",
       "383         1100030.0   District Of Columbia Public Schools  5/17/2023   \n",
       "384               NaN                                   NaN  5/22/2023   \n",
       "385         4219170.0                         Pittsburgh Sd  5/24/2023   \n",
       "386         2600210.0             Conner Creek Academy East   6/5/2023   \n",
       "\n",
       "    school_year  year      time day_of_week  ...        lat        long  \\\n",
       "0     1998-1999  1999  11:19 AM     Tuesday  ...  39.603910 -105.075000   \n",
       "1     1998-1999  1999  12:30 PM    Thursday  ...  30.529958  -91.169966   \n",
       "2     1998-1999  1999   8:03 AM    Thursday  ...  33.626922  -84.047960   \n",
       "3     1999-2000  1999  10:00 AM      Monday  ...  39.921509  -75.234108   \n",
       "4     1999-2000  1999   7:40 AM   Wednesday  ...  42.285268  -71.075901   \n",
       "..          ...   ...       ...         ...  ...        ...         ...   \n",
       "382   2022-2023  2023  11:30 AM      Monday  ...  40.002800  -75.178100   \n",
       "383   2022-2023  2023   2:25 PM   Wednesday  ...  38.942971  -77.029177   \n",
       "384   2022-2023  2023       NaN      Monday  ...  42.582682  -70.952603   \n",
       "385   2022-2023  2023   7:30 AM   Wednesday  ...  40.464327  -80.024121   \n",
       "386   2022-2023  2023   2:40 PM      Monday  ...  42.522585  -83.066681   \n",
       "\n",
       "    staffing low_grade  high_grade  lunch                   county state_fips  \\\n",
       "0      89.60         9          12     41         Jefferson County          8   \n",
       "1      39.00         6           8    495  East Baton Rouge Parish         22   \n",
       "2      84.00         9          12    125          Rockdale County         13   \n",
       "3      41.00         9          12   2007      Philadelphia County         42   \n",
       "4        NaN         9          12    543           Suffolk County         25   \n",
       "..       ...       ...         ...    ...                      ...        ...   \n",
       "382    41.37        KG           8    403      Philadelphia County         42   \n",
       "383    67.90         9          12    392     District Of Columbia         11   \n",
       "384   176.30         6          12    NaN             Essex County         25   \n",
       "385    22.63         3          12     88         Allegheny County         42   \n",
       "386    24.84         6          12    595            Macomb County         26   \n",
       "\n",
       "     county_fips ulocale  \n",
       "0           8059    21.0  \n",
       "1          22033    12.0  \n",
       "2          13247    21.0  \n",
       "3          42101    11.0  \n",
       "4          25025    11.0  \n",
       "..           ...     ...  \n",
       "382        42101    11.0  \n",
       "383        11001    11.0  \n",
       "384        25009    21.0  \n",
       "385        42003    11.0  \n",
       "386        26099    12.0  \n",
       "\n",
       "[387 rows x 50 columns]"
      ]
     },
     "execution_count": 12,
     "metadata": {},
     "output_type": "execute_result"
    }
   ],
   "source": [
    "school_shootings_df"
   ]
  },
  {
   "cell_type": "markdown",
   "metadata": {},
   "source": [
    "## Data preparation and cleaning"
   ]
  },
  {
   "cell_type": "markdown",
   "metadata": {},
   "source": [
    "Let's find out the number of rows and columns from the dataset"
   ]
  },
  {
   "cell_type": "code",
   "execution_count": 13,
   "metadata": {},
   "outputs": [
    {
     "data": {
      "text/plain": [
       "(387, 50)"
      ]
     },
     "execution_count": 13,
     "metadata": {},
     "output_type": "execute_result"
    }
   ],
   "source": [
    "school_shootings_df.shape"
   ]
  },
  {
   "cell_type": "markdown",
   "metadata": {},
   "source": [
    "Let's view the statistical information for the numerical columns"
   ]
  },
  {
   "cell_type": "code",
   "execution_count": 14,
   "metadata": {},
   "outputs": [
    {
     "data": {
      "text/html": [
       "<div>\n",
       "<style scoped>\n",
       "    .dataframe tbody tr th:only-of-type {\n",
       "        vertical-align: middle;\n",
       "    }\n",
       "\n",
       "    .dataframe tbody tr th {\n",
       "        vertical-align: top;\n",
       "    }\n",
       "\n",
       "    .dataframe thead th {\n",
       "        text-align: right;\n",
       "    }\n",
       "</style>\n",
       "<table border=\"1\" class=\"dataframe\">\n",
       "  <thead>\n",
       "    <tr style=\"text-align: right;\">\n",
       "      <th></th>\n",
       "      <th>uid</th>\n",
       "      <th>nces_district_id</th>\n",
       "      <th>year</th>\n",
       "      <th>killed</th>\n",
       "      <th>injured</th>\n",
       "      <th>casualties</th>\n",
       "      <th>age_shooter1</th>\n",
       "      <th>shooter_deceased1</th>\n",
       "      <th>age_shooter2</th>\n",
       "      <th>shooter_deceased2</th>\n",
       "      <th>...</th>\n",
       "      <th>american_indian_alaska_native</th>\n",
       "      <th>hawaiian_native_pacific_islander</th>\n",
       "      <th>two_or_more</th>\n",
       "      <th>resource_officer</th>\n",
       "      <th>lat</th>\n",
       "      <th>long</th>\n",
       "      <th>staffing</th>\n",
       "      <th>state_fips</th>\n",
       "      <th>county_fips</th>\n",
       "      <th>ulocale</th>\n",
       "    </tr>\n",
       "  </thead>\n",
       "  <tbody>\n",
       "    <tr>\n",
       "      <th>count</th>\n",
       "      <td>387.000000</td>\n",
       "      <td>3.630000e+02</td>\n",
       "      <td>387.000000</td>\n",
       "      <td>387.000000</td>\n",
       "      <td>387.000000</td>\n",
       "      <td>387.000000</td>\n",
       "      <td>274.000000</td>\n",
       "      <td>262.000000</td>\n",
       "      <td>12.000000</td>\n",
       "      <td>6.000000</td>\n",
       "      <td>...</td>\n",
       "      <td>376.000000</td>\n",
       "      <td>262.000000</td>\n",
       "      <td>262.000000</td>\n",
       "      <td>387.000000</td>\n",
       "      <td>386.000000</td>\n",
       "      <td>386.000000</td>\n",
       "      <td>363.000000</td>\n",
       "      <td>387.000000</td>\n",
       "      <td>387.000000</td>\n",
       "      <td>384.000000</td>\n",
       "    </tr>\n",
       "    <tr>\n",
       "      <th>mean</th>\n",
       "      <td>194.542636</td>\n",
       "      <td>2.683346e+06</td>\n",
       "      <td>2014.204134</td>\n",
       "      <td>0.519380</td>\n",
       "      <td>1.108527</td>\n",
       "      <td>1.622739</td>\n",
       "      <td>19.284672</td>\n",
       "      <td>0.152672</td>\n",
       "      <td>16.916667</td>\n",
       "      <td>0.166667</td>\n",
       "      <td>...</td>\n",
       "      <td>8.436170</td>\n",
       "      <td>5.015267</td>\n",
       "      <td>31.683206</td>\n",
       "      <td>0.271318</td>\n",
       "      <td>37.070614</td>\n",
       "      <td>-92.176124</td>\n",
       "      <td>61.546846</td>\n",
       "      <td>26.679587</td>\n",
       "      <td>26776.191214</td>\n",
       "      <td>19.947917</td>\n",
       "    </tr>\n",
       "    <tr>\n",
       "      <th>std</th>\n",
       "      <td>112.678322</td>\n",
       "      <td>1.638245e+06</td>\n",
       "      <td>7.452592</td>\n",
       "      <td>2.171772</td>\n",
       "      <td>2.215958</td>\n",
       "      <td>3.847791</td>\n",
       "      <td>9.748823</td>\n",
       "      <td>0.360359</td>\n",
       "      <td>1.505042</td>\n",
       "      <td>0.408248</td>\n",
       "      <td>...</td>\n",
       "      <td>25.989355</td>\n",
       "      <td>23.552659</td>\n",
       "      <td>37.592018</td>\n",
       "      <td>0.445215</td>\n",
       "      <td>5.121773</td>\n",
       "      <td>15.553162</td>\n",
       "      <td>38.739547</td>\n",
       "      <td>16.130641</td>\n",
       "      <td>16166.320448</td>\n",
       "      <td>10.668633</td>\n",
       "    </tr>\n",
       "    <tr>\n",
       "      <th>min</th>\n",
       "      <td>1.000000</td>\n",
       "      <td>1.000080e+05</td>\n",
       "      <td>1999.000000</td>\n",
       "      <td>0.000000</td>\n",
       "      <td>0.000000</td>\n",
       "      <td>0.000000</td>\n",
       "      <td>6.000000</td>\n",
       "      <td>0.000000</td>\n",
       "      <td>15.000000</td>\n",
       "      <td>0.000000</td>\n",
       "      <td>...</td>\n",
       "      <td>0.000000</td>\n",
       "      <td>0.000000</td>\n",
       "      <td>0.000000</td>\n",
       "      <td>0.000000</td>\n",
       "      <td>21.310400</td>\n",
       "      <td>-157.837200</td>\n",
       "      <td>3.000000</td>\n",
       "      <td>1.000000</td>\n",
       "      <td>1009.000000</td>\n",
       "      <td>11.000000</td>\n",
       "    </tr>\n",
       "    <tr>\n",
       "      <th>25%</th>\n",
       "      <td>97.500000</td>\n",
       "      <td>1.200480e+06</td>\n",
       "      <td>2008.000000</td>\n",
       "      <td>0.000000</td>\n",
       "      <td>0.000000</td>\n",
       "      <td>0.000000</td>\n",
       "      <td>15.000000</td>\n",
       "      <td>0.000000</td>\n",
       "      <td>15.750000</td>\n",
       "      <td>0.000000</td>\n",
       "      <td>...</td>\n",
       "      <td>0.000000</td>\n",
       "      <td>0.000000</td>\n",
       "      <td>4.250000</td>\n",
       "      <td>0.000000</td>\n",
       "      <td>33.686293</td>\n",
       "      <td>-97.506534</td>\n",
       "      <td>31.210000</td>\n",
       "      <td>12.000000</td>\n",
       "      <td>12061.000000</td>\n",
       "      <td>11.000000</td>\n",
       "    </tr>\n",
       "    <tr>\n",
       "      <th>50%</th>\n",
       "      <td>194.000000</td>\n",
       "      <td>2.614280e+06</td>\n",
       "      <td>2017.000000</td>\n",
       "      <td>0.000000</td>\n",
       "      <td>1.000000</td>\n",
       "      <td>1.000000</td>\n",
       "      <td>16.000000</td>\n",
       "      <td>0.000000</td>\n",
       "      <td>17.000000</td>\n",
       "      <td>0.000000</td>\n",
       "      <td>...</td>\n",
       "      <td>2.000000</td>\n",
       "      <td>1.000000</td>\n",
       "      <td>17.000000</td>\n",
       "      <td>0.000000</td>\n",
       "      <td>37.044535</td>\n",
       "      <td>-87.582092</td>\n",
       "      <td>55.300000</td>\n",
       "      <td>26.000000</td>\n",
       "      <td>26125.000000</td>\n",
       "      <td>13.000000</td>\n",
       "    </tr>\n",
       "    <tr>\n",
       "      <th>75%</th>\n",
       "      <td>290.500000</td>\n",
       "      <td>4.155394e+06</td>\n",
       "      <td>2021.000000</td>\n",
       "      <td>0.000000</td>\n",
       "      <td>1.000000</td>\n",
       "      <td>1.000000</td>\n",
       "      <td>19.000000</td>\n",
       "      <td>0.000000</td>\n",
       "      <td>18.000000</td>\n",
       "      <td>0.000000</td>\n",
       "      <td>...</td>\n",
       "      <td>6.000000</td>\n",
       "      <td>2.000000</td>\n",
       "      <td>46.750000</td>\n",
       "      <td>1.000000</td>\n",
       "      <td>40.647249</td>\n",
       "      <td>-80.818711</td>\n",
       "      <td>86.050000</td>\n",
       "      <td>41.000000</td>\n",
       "      <td>41045.000000</td>\n",
       "      <td>22.000000</td>\n",
       "    </tr>\n",
       "    <tr>\n",
       "      <th>max</th>\n",
       "      <td>391.000000</td>\n",
       "      <td>5.516470e+06</td>\n",
       "      <td>2023.000000</td>\n",
       "      <td>26.000000</td>\n",
       "      <td>21.000000</td>\n",
       "      <td>34.000000</td>\n",
       "      <td>72.000000</td>\n",
       "      <td>1.000000</td>\n",
       "      <td>20.000000</td>\n",
       "      <td>1.000000</td>\n",
       "      <td>...</td>\n",
       "      <td>331.000000</td>\n",
       "      <td>338.000000</td>\n",
       "      <td>199.000000</td>\n",
       "      <td>1.000000</td>\n",
       "      <td>61.213281</td>\n",
       "      <td>-70.952603</td>\n",
       "      <td>203.320000</td>\n",
       "      <td>55.000000</td>\n",
       "      <td>55139.000000</td>\n",
       "      <td>43.000000</td>\n",
       "    </tr>\n",
       "  </tbody>\n",
       "</table>\n",
       "<p>8 rows × 23 columns</p>\n",
       "</div>"
      ],
      "text/plain": [
       "              uid  nces_district_id         year      killed     injured  \\\n",
       "count  387.000000      3.630000e+02   387.000000  387.000000  387.000000   \n",
       "mean   194.542636      2.683346e+06  2014.204134    0.519380    1.108527   \n",
       "std    112.678322      1.638245e+06     7.452592    2.171772    2.215958   \n",
       "min      1.000000      1.000080e+05  1999.000000    0.000000    0.000000   \n",
       "25%     97.500000      1.200480e+06  2008.000000    0.000000    0.000000   \n",
       "50%    194.000000      2.614280e+06  2017.000000    0.000000    1.000000   \n",
       "75%    290.500000      4.155394e+06  2021.000000    0.000000    1.000000   \n",
       "max    391.000000      5.516470e+06  2023.000000   26.000000   21.000000   \n",
       "\n",
       "       casualties  age_shooter1  shooter_deceased1  age_shooter2  \\\n",
       "count  387.000000    274.000000         262.000000     12.000000   \n",
       "mean     1.622739     19.284672           0.152672     16.916667   \n",
       "std      3.847791      9.748823           0.360359      1.505042   \n",
       "min      0.000000      6.000000           0.000000     15.000000   \n",
       "25%      0.000000     15.000000           0.000000     15.750000   \n",
       "50%      1.000000     16.000000           0.000000     17.000000   \n",
       "75%      1.000000     19.000000           0.000000     18.000000   \n",
       "max     34.000000     72.000000           1.000000     20.000000   \n",
       "\n",
       "       shooter_deceased2  ...  american_indian_alaska_native  \\\n",
       "count           6.000000  ...                     376.000000   \n",
       "mean            0.166667  ...                       8.436170   \n",
       "std             0.408248  ...                      25.989355   \n",
       "min             0.000000  ...                       0.000000   \n",
       "25%             0.000000  ...                       0.000000   \n",
       "50%             0.000000  ...                       2.000000   \n",
       "75%             0.000000  ...                       6.000000   \n",
       "max             1.000000  ...                     331.000000   \n",
       "\n",
       "       hawaiian_native_pacific_islander  two_or_more  resource_officer  \\\n",
       "count                        262.000000   262.000000        387.000000   \n",
       "mean                           5.015267    31.683206          0.271318   \n",
       "std                           23.552659    37.592018          0.445215   \n",
       "min                            0.000000     0.000000          0.000000   \n",
       "25%                            0.000000     4.250000          0.000000   \n",
       "50%                            1.000000    17.000000          0.000000   \n",
       "75%                            2.000000    46.750000          1.000000   \n",
       "max                          338.000000   199.000000          1.000000   \n",
       "\n",
       "              lat        long    staffing  state_fips   county_fips  \\\n",
       "count  386.000000  386.000000  363.000000  387.000000    387.000000   \n",
       "mean    37.070614  -92.176124   61.546846   26.679587  26776.191214   \n",
       "std      5.121773   15.553162   38.739547   16.130641  16166.320448   \n",
       "min     21.310400 -157.837200    3.000000    1.000000   1009.000000   \n",
       "25%     33.686293  -97.506534   31.210000   12.000000  12061.000000   \n",
       "50%     37.044535  -87.582092   55.300000   26.000000  26125.000000   \n",
       "75%     40.647249  -80.818711   86.050000   41.000000  41045.000000   \n",
       "max     61.213281  -70.952603  203.320000   55.000000  55139.000000   \n",
       "\n",
       "          ulocale  \n",
       "count  384.000000  \n",
       "mean    19.947917  \n",
       "std     10.668633  \n",
       "min     11.000000  \n",
       "25%     11.000000  \n",
       "50%     13.000000  \n",
       "75%     22.000000  \n",
       "max     43.000000  \n",
       "\n",
       "[8 rows x 23 columns]"
      ]
     },
     "execution_count": 14,
     "metadata": {},
     "output_type": "execute_result"
    }
   ],
   "source": [
    "school_shootings_df.describe()"
   ]
  },
  {
   "cell_type": "markdown",
   "metadata": {},
   "source": [
    "Looking back at the csv file, there are so many columns that are missing at least one value. To verify, we can use `.isna()` method."
   ]
  },
  {
   "cell_type": "code",
   "execution_count": 15,
   "metadata": {},
   "outputs": [
    {
     "data": {
      "text/plain": [
       "0      False\n",
       "1       True\n",
       "2       True\n",
       "3       True\n",
       "4       True\n",
       "       ...  \n",
       "382     True\n",
       "383     True\n",
       "384     True\n",
       "385     True\n",
       "386     True\n",
       "Name: age_shooter2, Length: 387, dtype: bool"
      ]
     },
     "execution_count": 15,
     "metadata": {},
     "output_type": "execute_result"
    }
   ],
   "source": [
    "# Using .isna method by accessing age_shooter2 column\n",
    "\n",
    "school_shootings_df.age_shooter2.isna()"
   ]
  },
  {
   "cell_type": "markdown",
   "metadata": {},
   "source": [
    "We can see that only the first row returns the value False while the others returns the value True. This is because many school shooting incidents were carried out by a sole shooter. The first row is the data from the Columbine high school massacre that were carried out by two shooters.  "
   ]
  },
  {
   "cell_type": "markdown",
   "metadata": {},
   "source": [
    "### Number of male and female shooters "
   ]
  },
  {
   "cell_type": "code",
   "execution_count": 16,
   "metadata": {},
   "outputs": [
    {
     "data": {
      "text/plain": [
       "m    294\n",
       "f     14\n",
       "h      1\n",
       "Name: gender_shooter1, dtype: int64"
      ]
     },
     "execution_count": 16,
     "metadata": {},
     "output_type": "execute_result"
    }
   ],
   "source": [
    "school_shootings_df.gender_shooter1.value_counts()"
   ]
  },
  {
   "cell_type": "markdown",
   "metadata": {},
   "source": [
    "There were 294 male shooters and 14 female shooters. However, we do not know what 'h' stands for. The school name associated with the 'h' value turns out to be John Muir Elementary School. According to the news, the person who shot up the school was identified as a man. In order to change the value from 'h' to 'm', we use the `loc()` method. "
   ]
  },
  {
   "cell_type": "code",
   "execution_count": 17,
   "metadata": {},
   "outputs": [],
   "source": [
    "school_shootings_df.loc[106, 'gender_shooter1'] = 'm'"
   ]
  },
  {
   "cell_type": "markdown",
   "metadata": {},
   "source": [
    "Now we have a total of 295 male shooters. "
   ]
  },
  {
   "cell_type": "code",
   "execution_count": 18,
   "metadata": {},
   "outputs": [
    {
     "data": {
      "text/plain": [
       "m    295\n",
       "f     14\n",
       "Name: gender_shooter1, dtype: int64"
      ]
     },
     "execution_count": 18,
     "metadata": {},
     "output_type": "execute_result"
    }
   ],
   "source": [
    "gender_counts = school_shootings_df.gender_shooter1.value_counts()\n",
    "gender_counts"
   ]
  },
  {
   "cell_type": "markdown",
   "metadata": {},
   "source": [
    "### Number of deaths "
   ]
  },
  {
   "cell_type": "code",
   "execution_count": 19,
   "metadata": {},
   "outputs": [
    {
     "data": {
      "text/plain": [
       "201"
      ]
     },
     "execution_count": 19,
     "metadata": {},
     "output_type": "execute_result"
    }
   ],
   "source": [
    "school_shootings_df.killed.sum()"
   ]
  },
  {
   "cell_type": "markdown",
   "metadata": {},
   "source": [
    "### Number of injuries "
   ]
  },
  {
   "cell_type": "code",
   "execution_count": 20,
   "metadata": {},
   "outputs": [
    {
     "data": {
      "text/plain": [
       "429"
      ]
     },
     "execution_count": 20,
     "metadata": {},
     "output_type": "execute_result"
    }
   ],
   "source": [
    "school_shootings_df.injured.sum()"
   ]
  },
  {
   "cell_type": "markdown",
   "metadata": {},
   "source": [
    "### Number of casualties"
   ]
  },
  {
   "cell_type": "code",
   "execution_count": 21,
   "metadata": {},
   "outputs": [
    {
     "data": {
      "text/plain": [
       "628"
      ]
     },
     "execution_count": 21,
     "metadata": {},
     "output_type": "execute_result"
    }
   ],
   "source": [
    "school_shootings_df.casualties.sum()"
   ]
  },
  {
   "cell_type": "markdown",
   "metadata": {},
   "source": [
    "We see that the number of deaths and the number of injuries do not add up to the number of casualties. We need to change that by determining how many rows have a discrepancy between the number of deaths, the number of injuries, and the number of casualties.  "
   ]
  },
  {
   "cell_type": "code",
   "execution_count": 22,
   "metadata": {},
   "outputs": [
    {
     "data": {
      "text/html": [
       "<div>\n",
       "<style scoped>\n",
       "    .dataframe tbody tr th:only-of-type {\n",
       "        vertical-align: middle;\n",
       "    }\n",
       "\n",
       "    .dataframe tbody tr th {\n",
       "        vertical-align: top;\n",
       "    }\n",
       "\n",
       "    .dataframe thead th {\n",
       "        text-align: right;\n",
       "    }\n",
       "</style>\n",
       "<table border=\"1\" class=\"dataframe\">\n",
       "  <thead>\n",
       "    <tr style=\"text-align: right;\">\n",
       "      <th></th>\n",
       "      <th>uid</th>\n",
       "      <th>nces_school_id</th>\n",
       "      <th>school_name</th>\n",
       "      <th>nces_district_id</th>\n",
       "      <th>district_name</th>\n",
       "      <th>date</th>\n",
       "      <th>school_year</th>\n",
       "      <th>year</th>\n",
       "      <th>time</th>\n",
       "      <th>day_of_week</th>\n",
       "      <th>...</th>\n",
       "      <th>lat</th>\n",
       "      <th>long</th>\n",
       "      <th>staffing</th>\n",
       "      <th>low_grade</th>\n",
       "      <th>high_grade</th>\n",
       "      <th>lunch</th>\n",
       "      <th>county</th>\n",
       "      <th>state_fips</th>\n",
       "      <th>county_fips</th>\n",
       "      <th>ulocale</th>\n",
       "    </tr>\n",
       "  </thead>\n",
       "  <tbody>\n",
       "    <tr>\n",
       "      <th>328</th>\n",
       "      <td>337</td>\n",
       "      <td>320006000114</td>\n",
       "      <td>Western High School</td>\n",
       "      <td>3200060.0</td>\n",
       "      <td>Clark County School District</td>\n",
       "      <td>3/29/2022</td>\n",
       "      <td>2021-2022</td>\n",
       "      <td>2022</td>\n",
       "      <td>2:15 PM</td>\n",
       "      <td>Tuesday</td>\n",
       "      <td>...</td>\n",
       "      <td>36.176163</td>\n",
       "      <td>-115.202879</td>\n",
       "      <td>103.00</td>\n",
       "      <td>9</td>\n",
       "      <td>12</td>\n",
       "      <td>2732</td>\n",
       "      <td>Clark County</td>\n",
       "      <td>32</td>\n",
       "      <td>32003</td>\n",
       "      <td>11.0</td>\n",
       "    </tr>\n",
       "    <tr>\n",
       "      <th>337</th>\n",
       "      <td>343</td>\n",
       "      <td>120150002783</td>\n",
       "      <td>Alexander W. Dreyfoos School of Arts</td>\n",
       "      <td>1201500.0</td>\n",
       "      <td>Palm Beach County</td>\n",
       "      <td>5/13/2022</td>\n",
       "      <td>2021-2022</td>\n",
       "      <td>2022</td>\n",
       "      <td>11:58 AM</td>\n",
       "      <td>Friday</td>\n",
       "      <td>...</td>\n",
       "      <td>26.709238</td>\n",
       "      <td>-80.059481</td>\n",
       "      <td>65.00</td>\n",
       "      <td>9</td>\n",
       "      <td>12</td>\n",
       "      <td>327</td>\n",
       "      <td>Palm Beach County</td>\n",
       "      <td>12</td>\n",
       "      <td>12099</td>\n",
       "      <td>12.0</td>\n",
       "    </tr>\n",
       "    <tr>\n",
       "      <th>341</th>\n",
       "      <td>348</td>\n",
       "      <td>062271003052</td>\n",
       "      <td>Ulysses S. Grant High School</td>\n",
       "      <td>622710.0</td>\n",
       "      <td>Los Angeles Unified School District</td>\n",
       "      <td>6/1/2022</td>\n",
       "      <td>2021-2022</td>\n",
       "      <td>2022</td>\n",
       "      <td>3:25 PM</td>\n",
       "      <td>Wednesday</td>\n",
       "      <td>...</td>\n",
       "      <td>34.177798</td>\n",
       "      <td>-118.415327</td>\n",
       "      <td>94.35</td>\n",
       "      <td>9</td>\n",
       "      <td>12</td>\n",
       "      <td>2609</td>\n",
       "      <td>Los Angeles County</td>\n",
       "      <td>6</td>\n",
       "      <td>6037</td>\n",
       "      <td>11.0</td>\n",
       "    </tr>\n",
       "  </tbody>\n",
       "</table>\n",
       "<p>3 rows × 50 columns</p>\n",
       "</div>"
      ],
      "text/plain": [
       "     uid nces_school_id                           school_name  \\\n",
       "328  337   320006000114                   Western High School   \n",
       "337  343   120150002783  Alexander W. Dreyfoos School of Arts   \n",
       "341  348   062271003052          Ulysses S. Grant High School   \n",
       "\n",
       "     nces_district_id                        district_name       date  \\\n",
       "328         3200060.0         Clark County School District  3/29/2022   \n",
       "337         1201500.0                    Palm Beach County  5/13/2022   \n",
       "341          622710.0  Los Angeles Unified School District   6/1/2022   \n",
       "\n",
       "    school_year  year      time day_of_week  ...        lat        long  \\\n",
       "328   2021-2022  2022   2:15 PM     Tuesday  ...  36.176163 -115.202879   \n",
       "337   2021-2022  2022  11:58 AM      Friday  ...  26.709238  -80.059481   \n",
       "341   2021-2022  2022   3:25 PM   Wednesday  ...  34.177798 -118.415327   \n",
       "\n",
       "    staffing low_grade  high_grade  lunch              county state_fips  \\\n",
       "328   103.00         9          12   2732        Clark County         32   \n",
       "337    65.00         9          12    327   Palm Beach County         12   \n",
       "341    94.35         9          12   2609  Los Angeles County          6   \n",
       "\n",
       "     county_fips ulocale  \n",
       "328        32003    11.0  \n",
       "337        12099    12.0  \n",
       "341         6037    11.0  \n",
       "\n",
       "[3 rows x 50 columns]"
      ]
     },
     "execution_count": 22,
     "metadata": {},
     "output_type": "execute_result"
    }
   ],
   "source": [
    "discrepancy_df = school_shootings_df[(school_shootings_df['killed'] + school_shootings_df['injured']) != school_shootings_df['casualties']]\n",
    "discrepancy_df"
   ]
  },
  {
   "cell_type": "markdown",
   "metadata": {},
   "source": [
    "There are 3 rows that have a discrepancy. Let's narrow down to those 3 columns so we can see better. "
   ]
  },
  {
   "cell_type": "code",
   "execution_count": 23,
   "metadata": {},
   "outputs": [
    {
     "data": {
      "text/html": [
       "<div>\n",
       "<style scoped>\n",
       "    .dataframe tbody tr th:only-of-type {\n",
       "        vertical-align: middle;\n",
       "    }\n",
       "\n",
       "    .dataframe tbody tr th {\n",
       "        vertical-align: top;\n",
       "    }\n",
       "\n",
       "    .dataframe thead th {\n",
       "        text-align: right;\n",
       "    }\n",
       "</style>\n",
       "<table border=\"1\" class=\"dataframe\">\n",
       "  <thead>\n",
       "    <tr style=\"text-align: right;\">\n",
       "      <th></th>\n",
       "      <th>killed</th>\n",
       "      <th>injured</th>\n",
       "      <th>casualties</th>\n",
       "    </tr>\n",
       "  </thead>\n",
       "  <tbody>\n",
       "    <tr>\n",
       "      <th>328</th>\n",
       "      <td>0</td>\n",
       "      <td>2</td>\n",
       "      <td>0</td>\n",
       "    </tr>\n",
       "    <tr>\n",
       "      <th>337</th>\n",
       "      <td>1</td>\n",
       "      <td>0</td>\n",
       "      <td>0</td>\n",
       "    </tr>\n",
       "    <tr>\n",
       "      <th>341</th>\n",
       "      <td>0</td>\n",
       "      <td>1</td>\n",
       "      <td>2</td>\n",
       "    </tr>\n",
       "  </tbody>\n",
       "</table>\n",
       "</div>"
      ],
      "text/plain": [
       "     killed  injured  casualties\n",
       "328       0        2           0\n",
       "337       1        0           0\n",
       "341       0        1           2"
      ]
     },
     "execution_count": 23,
     "metadata": {},
     "output_type": "execute_result"
    }
   ],
   "source": [
    "discrepancy_df[['killed', 'injured', 'casualties']]"
   ]
  },
  {
   "cell_type": "markdown",
   "metadata": {},
   "source": [
    "We need to change the value of casualties for each row."
   ]
  },
  {
   "cell_type": "code",
   "execution_count": 24,
   "metadata": {},
   "outputs": [],
   "source": [
    "school_shootings_df.loc[328, 'casualties'] = 2"
   ]
  },
  {
   "cell_type": "code",
   "execution_count": 25,
   "metadata": {},
   "outputs": [],
   "source": [
    "school_shootings_df.loc[337, 'casualties'] = 1"
   ]
  },
  {
   "cell_type": "code",
   "execution_count": 26,
   "metadata": {},
   "outputs": [],
   "source": [
    "school_shootings_df.loc[341, 'casualties'] = 1"
   ]
  },
  {
   "cell_type": "markdown",
   "metadata": {},
   "source": [
    "Now run the sum of each column again "
   ]
  },
  {
   "cell_type": "code",
   "execution_count": 27,
   "metadata": {},
   "outputs": [
    {
     "data": {
      "text/plain": [
       "201"
      ]
     },
     "execution_count": 27,
     "metadata": {},
     "output_type": "execute_result"
    }
   ],
   "source": [
    "school_shootings_df.killed.sum()"
   ]
  },
  {
   "cell_type": "code",
   "execution_count": 28,
   "metadata": {},
   "outputs": [
    {
     "data": {
      "text/plain": [
       "429"
      ]
     },
     "execution_count": 28,
     "metadata": {},
     "output_type": "execute_result"
    }
   ],
   "source": [
    "school_shootings_df.injured.sum()"
   ]
  },
  {
   "cell_type": "code",
   "execution_count": 29,
   "metadata": {},
   "outputs": [
    {
     "data": {
      "text/plain": [
       "630"
      ]
     },
     "execution_count": 29,
     "metadata": {},
     "output_type": "execute_result"
    }
   ],
   "source": [
    "school_shootings_df.casualties.sum()"
   ]
  },
  {
   "cell_type": "markdown",
   "metadata": {},
   "source": [
    "###  Number of school shooters by race"
   ]
  },
  {
   "cell_type": "code",
   "execution_count": 30,
   "metadata": {},
   "outputs": [
    {
     "data": {
      "text/plain": [
       "w           72\n",
       "b           60\n",
       "h            9\n",
       "ai           2\n",
       "m            2\n",
       "a            1\n",
       "n            1\n",
       "Hispanic     1\n",
       "Name: race_ethnicity_shooter1, dtype: int64"
      ]
     },
     "execution_count": 30,
     "metadata": {},
     "output_type": "execute_result"
    }
   ],
   "source": [
    "school_shootings_df.race_ethnicity_shooter1.value_counts()"
   ]
  },
  {
   "cell_type": "code",
   "execution_count": 31,
   "metadata": {},
   "outputs": [],
   "source": [
    "school_shootings_df.loc[343, 'race_ethnicity_shooter1'] = 'h'"
   ]
  },
  {
   "cell_type": "markdown",
   "metadata": {},
   "source": [
    "Change the value 'Hispanic' to 'h'"
   ]
  },
  {
   "cell_type": "code",
   "execution_count": 32,
   "metadata": {},
   "outputs": [
    {
     "data": {
      "text/plain": [
       "w     72\n",
       "b     60\n",
       "h     10\n",
       "ai     2\n",
       "m      2\n",
       "a      1\n",
       "n      1\n",
       "Name: race_ethnicity_shooter1, dtype: int64"
      ]
     },
     "execution_count": 32,
     "metadata": {},
     "output_type": "execute_result"
    }
   ],
   "source": [
    "school_shootings_df.race_ethnicity_shooter1.value_counts()"
   ]
  },
  {
   "cell_type": "code",
   "execution_count": 33,
   "metadata": {},
   "outputs": [
    {
     "data": {
      "text/plain": [
       "w    3\n",
       "b    3\n",
       "h    1\n",
       "Name: race_ethnicity_shooter2, dtype: int64"
      ]
     },
     "execution_count": 33,
     "metadata": {},
     "output_type": "execute_result"
    }
   ],
   "source": [
    "school_shootings_df.race_ethnicity_shooter2.value_counts()"
   ]
  },
  {
   "cell_type": "markdown",
   "metadata": {},
   "source": [
    "As we can see, most of the school shooters were reportedly identified as White and Black"
   ]
  },
  {
   "cell_type": "code",
   "execution_count": 34,
   "metadata": {},
   "outputs": [],
   "source": [
    "# Changing the value from string to integer\n",
    "\n",
    "school_shootings_df.loc[373, 'hispanic'] = 1107"
   ]
  },
  {
   "cell_type": "code",
   "execution_count": 35,
   "metadata": {},
   "outputs": [],
   "source": [
    "school_shootings_df.loc[373, 'enrollment'] = 2541"
   ]
  },
  {
   "cell_type": "code",
   "execution_count": 36,
   "metadata": {},
   "outputs": [],
   "source": [
    "school_shootings_df.loc[381, 'enrollment'] = 1051"
   ]
  },
  {
   "cell_type": "markdown",
   "metadata": {},
   "source": [
    "### Number of schools by type"
   ]
  },
  {
   "cell_type": "code",
   "execution_count": 37,
   "metadata": {},
   "outputs": [
    {
     "data": {
      "text/plain": [
       "public     363\n",
       "private     24\n",
       "Name: school_type, dtype: int64"
      ]
     },
     "execution_count": 37,
     "metadata": {},
     "output_type": "execute_result"
    }
   ],
   "source": [
    "schools_type_counts = school_shootings_df.school_type.value_counts()\n",
    "schools_type_counts"
   ]
  },
  {
   "cell_type": "markdown",
   "metadata": {},
   "source": [
    "### The average age of a school shooter"
   ]
  },
  {
   "cell_type": "code",
   "execution_count": 38,
   "metadata": {},
   "outputs": [],
   "source": [
    "average_age = school_shootings_df.age_shooter1.mean()"
   ]
  },
  {
   "cell_type": "code",
   "execution_count": 39,
   "metadata": {},
   "outputs": [
    {
     "name": "stdout",
     "output_type": "stream",
     "text": [
      "The average age of a school shooter is 19.28\n"
     ]
    }
   ],
   "source": [
    "print('The average age of a school shooter is {:.2f}'.format(average_age))"
   ]
  },
  {
   "cell_type": "markdown",
   "metadata": {},
   "source": [
    "### Number of each shooting type (indiscriminate, targeted, accidental, unclear, etc...)"
   ]
  },
  {
   "cell_type": "code",
   "execution_count": 40,
   "metadata": {},
   "outputs": [
    {
     "data": {
      "text/plain": [
       "targeted                       223\n",
       "indiscriminate                  63\n",
       "accidental                      51\n",
       "unclear                         30\n",
       "public suicide                   8\n",
       "targeted and indiscriminate      6\n",
       "accidental or targeted           2\n",
       "hostage suicide                  2\n",
       "public suicide (attempted)       1\n",
       "suicide                          1\n",
       "Name: shooting_type, dtype: int64"
      ]
     },
     "execution_count": 40,
     "metadata": {},
     "output_type": "execute_result"
    }
   ],
   "source": [
    "school_shootings_df.shooting_type.value_counts()"
   ]
  },
  {
   "cell_type": "markdown",
   "metadata": {},
   "source": [
    "### Number of school shooting incidents by year"
   ]
  },
  {
   "cell_type": "code",
   "execution_count": 41,
   "metadata": {},
   "outputs": [
    {
     "data": {
      "text/plain": [
       "2022    46\n",
       "2021    42\n",
       "2018    30\n",
       "2023    28\n",
       "2019    27\n",
       "2014    16\n",
       "2006    15\n",
       "2017    15\n",
       "2005    13\n",
       "2013    13\n",
       "2016    13\n",
       "2001    13\n",
       "2000    12\n",
       "2003    12\n",
       "2012    11\n",
       "2007    10\n",
       "2004     9\n",
       "2008     9\n",
       "2020     9\n",
       "2010     9\n",
       "2009     9\n",
       "1999     7\n",
       "2015     7\n",
       "2011     7\n",
       "2002     5\n",
       "Name: year, dtype: int64"
      ]
     },
     "execution_count": 41,
     "metadata": {},
     "output_type": "execute_result"
    }
   ],
   "source": [
    "school_shootings_df['year'].value_counts()"
   ]
  },
  {
   "cell_type": "markdown",
   "metadata": {},
   "source": [
    "### Number of school shooting incidents by school year"
   ]
  },
  {
   "cell_type": "code",
   "execution_count": 42,
   "metadata": {},
   "outputs": [
    {
     "data": {
      "text/plain": [
       "2021-2022    57\n",
       "2022-2023    45\n",
       "2017-2018    29\n",
       "2018-2019    23\n",
       "2013-2014    20\n",
       "2019-2020    19\n",
       "2020-2021    17\n",
       "2005-2006    16\n",
       "2016-2017    15\n",
       "1999-2000    14\n",
       "2006-2007    14\n",
       "2000-2001    12\n",
       "2010-2011    11\n",
       "2004-2005    11\n",
       "2015-2016    10\n",
       "2003-2004    10\n",
       "2011-2012     9\n",
       "2009-2010     9\n",
       "2007-2008     9\n",
       "2002-2003     9\n",
       "2012-2013     8\n",
       "2014-2015     6\n",
       "2008-2009     6\n",
       "2001-2002     5\n",
       "1998-1999     3\n",
       "Name: school_year, dtype: int64"
      ]
     },
     "execution_count": 42,
     "metadata": {},
     "output_type": "execute_result"
    }
   ],
   "source": [
    "school_shootings_df['school_year'].value_counts()"
   ]
  },
  {
   "cell_type": "markdown",
   "metadata": {},
   "source": [
    "### Using the drop method"
   ]
  },
  {
   "cell_type": "markdown",
   "metadata": {},
   "source": [
    "We also notice some of the columns are insignificant or unnecessary to this project. For the sake of clarity and simplicity, it is better to remove them. "
   ]
  },
  {
   "cell_type": "code",
   "execution_count": 43,
   "metadata": {},
   "outputs": [],
   "source": [
    "school_shootings_df.drop(columns=['two_or_more','lunch','state_fips','county_fips','ulocale'], inplace=True)"
   ]
  },
  {
   "cell_type": "code",
   "execution_count": 44,
   "metadata": {},
   "outputs": [
    {
     "data": {
      "text/html": [
       "<div>\n",
       "<style scoped>\n",
       "    .dataframe tbody tr th:only-of-type {\n",
       "        vertical-align: middle;\n",
       "    }\n",
       "\n",
       "    .dataframe tbody tr th {\n",
       "        vertical-align: top;\n",
       "    }\n",
       "\n",
       "    .dataframe thead th {\n",
       "        text-align: right;\n",
       "    }\n",
       "</style>\n",
       "<table border=\"1\" class=\"dataframe\">\n",
       "  <thead>\n",
       "    <tr style=\"text-align: right;\">\n",
       "      <th></th>\n",
       "      <th>uid</th>\n",
       "      <th>nces_school_id</th>\n",
       "      <th>school_name</th>\n",
       "      <th>nces_district_id</th>\n",
       "      <th>district_name</th>\n",
       "      <th>date</th>\n",
       "      <th>school_year</th>\n",
       "      <th>year</th>\n",
       "      <th>time</th>\n",
       "      <th>day_of_week</th>\n",
       "      <th>...</th>\n",
       "      <th>hawaiian_native_pacific_islander</th>\n",
       "      <th>resource_officer</th>\n",
       "      <th>weapon</th>\n",
       "      <th>weapon_source</th>\n",
       "      <th>lat</th>\n",
       "      <th>long</th>\n",
       "      <th>staffing</th>\n",
       "      <th>low_grade</th>\n",
       "      <th>high_grade</th>\n",
       "      <th>county</th>\n",
       "    </tr>\n",
       "  </thead>\n",
       "  <tbody>\n",
       "    <tr>\n",
       "      <th>0</th>\n",
       "      <td>1</td>\n",
       "      <td>080480000707</td>\n",
       "      <td>Columbine High School</td>\n",
       "      <td>804800.0</td>\n",
       "      <td>Jefferson County R-1</td>\n",
       "      <td>4/20/1999</td>\n",
       "      <td>1998-1999</td>\n",
       "      <td>1999</td>\n",
       "      <td>11:19 AM</td>\n",
       "      <td>Tuesday</td>\n",
       "      <td>...</td>\n",
       "      <td>NaN</td>\n",
       "      <td>1</td>\n",
       "      <td>12-gauge Savage-Springfield 67H pump-action sh...</td>\n",
       "      <td>purchased from friends</td>\n",
       "      <td>39.603910</td>\n",
       "      <td>-105.075000</td>\n",
       "      <td>89.60</td>\n",
       "      <td>9</td>\n",
       "      <td>12</td>\n",
       "      <td>Jefferson County</td>\n",
       "    </tr>\n",
       "    <tr>\n",
       "      <th>1</th>\n",
       "      <td>2</td>\n",
       "      <td>220054000422</td>\n",
       "      <td>Scotlandville Middle School</td>\n",
       "      <td>2200540.0</td>\n",
       "      <td>East Baton Rouge Parish School Board</td>\n",
       "      <td>4/22/1999</td>\n",
       "      <td>1998-1999</td>\n",
       "      <td>1999</td>\n",
       "      <td>12:30 PM</td>\n",
       "      <td>Thursday</td>\n",
       "      <td>...</td>\n",
       "      <td>NaN</td>\n",
       "      <td>0</td>\n",
       "      <td>.22 caliber pistol</td>\n",
       "      <td>NaN</td>\n",
       "      <td>30.529958</td>\n",
       "      <td>-91.169966</td>\n",
       "      <td>39.00</td>\n",
       "      <td>6</td>\n",
       "      <td>8</td>\n",
       "      <td>East Baton Rouge Parish</td>\n",
       "    </tr>\n",
       "    <tr>\n",
       "      <th>2</th>\n",
       "      <td>3</td>\n",
       "      <td>130441001591</td>\n",
       "      <td>Heritage High School</td>\n",
       "      <td>1304410.0</td>\n",
       "      <td>Rockdale County</td>\n",
       "      <td>5/20/1999</td>\n",
       "      <td>1998-1999</td>\n",
       "      <td>1999</td>\n",
       "      <td>8:03 AM</td>\n",
       "      <td>Thursday</td>\n",
       "      <td>...</td>\n",
       "      <td>NaN</td>\n",
       "      <td>1</td>\n",
       "      <td>.22 caliber rifle, 357-caliber Magnum handgun</td>\n",
       "      <td>NaN</td>\n",
       "      <td>33.626922</td>\n",
       "      <td>-84.047960</td>\n",
       "      <td>84.00</td>\n",
       "      <td>9</td>\n",
       "      <td>12</td>\n",
       "      <td>Rockdale County</td>\n",
       "    </tr>\n",
       "    <tr>\n",
       "      <th>3</th>\n",
       "      <td>4</td>\n",
       "      <td>421899003847</td>\n",
       "      <td>John Bartram High School</td>\n",
       "      <td>4218990.0</td>\n",
       "      <td>Philadelphia City SD</td>\n",
       "      <td>10/4/1999</td>\n",
       "      <td>1999-2000</td>\n",
       "      <td>1999</td>\n",
       "      <td>10:00 AM</td>\n",
       "      <td>Monday</td>\n",
       "      <td>...</td>\n",
       "      <td>NaN</td>\n",
       "      <td>1</td>\n",
       "      <td>RG .25-caliber pistol</td>\n",
       "      <td>purchased from friend</td>\n",
       "      <td>39.921509</td>\n",
       "      <td>-75.234108</td>\n",
       "      <td>41.00</td>\n",
       "      <td>9</td>\n",
       "      <td>12</td>\n",
       "      <td>Philadelphia County</td>\n",
       "    </tr>\n",
       "    <tr>\n",
       "      <th>4</th>\n",
       "      <td>5</td>\n",
       "      <td>250279000225</td>\n",
       "      <td>Dorchester High School</td>\n",
       "      <td>2502790.0</td>\n",
       "      <td>Boston</td>\n",
       "      <td>11/3/1999</td>\n",
       "      <td>1999-2000</td>\n",
       "      <td>1999</td>\n",
       "      <td>7:40 AM</td>\n",
       "      <td>Wednesday</td>\n",
       "      <td>...</td>\n",
       "      <td>NaN</td>\n",
       "      <td>0</td>\n",
       "      <td>NaN</td>\n",
       "      <td>NaN</td>\n",
       "      <td>42.285268</td>\n",
       "      <td>-71.075901</td>\n",
       "      <td>NaN</td>\n",
       "      <td>9</td>\n",
       "      <td>12</td>\n",
       "      <td>Suffolk County</td>\n",
       "    </tr>\n",
       "    <tr>\n",
       "      <th>...</th>\n",
       "      <td>...</td>\n",
       "      <td>...</td>\n",
       "      <td>...</td>\n",
       "      <td>...</td>\n",
       "      <td>...</td>\n",
       "      <td>...</td>\n",
       "      <td>...</td>\n",
       "      <td>...</td>\n",
       "      <td>...</td>\n",
       "      <td>...</td>\n",
       "      <td>...</td>\n",
       "      <td>...</td>\n",
       "      <td>...</td>\n",
       "      <td>...</td>\n",
       "      <td>...</td>\n",
       "      <td>...</td>\n",
       "      <td>...</td>\n",
       "      <td>...</td>\n",
       "      <td>...</td>\n",
       "      <td>...</td>\n",
       "      <td>...</td>\n",
       "    </tr>\n",
       "    <tr>\n",
       "      <th>382</th>\n",
       "      <td>386</td>\n",
       "      <td>421899007517</td>\n",
       "      <td>E. Washington Rhodes Elementary School</td>\n",
       "      <td>4218990.0</td>\n",
       "      <td>Philadelphia City Sd</td>\n",
       "      <td>5/8/2023</td>\n",
       "      <td>2022-2023</td>\n",
       "      <td>2023</td>\n",
       "      <td>11:30 AM</td>\n",
       "      <td>Monday</td>\n",
       "      <td>...</td>\n",
       "      <td>0.0</td>\n",
       "      <td>0</td>\n",
       "      <td>NaN</td>\n",
       "      <td>NaN</td>\n",
       "      <td>40.002800</td>\n",
       "      <td>-75.178100</td>\n",
       "      <td>41.37</td>\n",
       "      <td>KG</td>\n",
       "      <td>8</td>\n",
       "      <td>Philadelphia County</td>\n",
       "    </tr>\n",
       "    <tr>\n",
       "      <th>383</th>\n",
       "      <td>387</td>\n",
       "      <td>110003000008</td>\n",
       "      <td>Roosevelt High School</td>\n",
       "      <td>1100030.0</td>\n",
       "      <td>District Of Columbia Public Schools</td>\n",
       "      <td>5/17/2023</td>\n",
       "      <td>2022-2023</td>\n",
       "      <td>2023</td>\n",
       "      <td>2:25 PM</td>\n",
       "      <td>Wednesday</td>\n",
       "      <td>...</td>\n",
       "      <td>0.0</td>\n",
       "      <td>0</td>\n",
       "      <td>NaN</td>\n",
       "      <td>NaN</td>\n",
       "      <td>38.942971</td>\n",
       "      <td>-77.029177</td>\n",
       "      <td>67.90</td>\n",
       "      <td>9</td>\n",
       "      <td>12</td>\n",
       "      <td>District Of Columbia</td>\n",
       "    </tr>\n",
       "    <tr>\n",
       "      <th>384</th>\n",
       "      <td>390</td>\n",
       "      <td>00600937</td>\n",
       "      <td>St. John's Prep</td>\n",
       "      <td>NaN</td>\n",
       "      <td>NaN</td>\n",
       "      <td>5/22/2023</td>\n",
       "      <td>2022-2023</td>\n",
       "      <td>2023</td>\n",
       "      <td>NaN</td>\n",
       "      <td>Monday</td>\n",
       "      <td>...</td>\n",
       "      <td>10.0</td>\n",
       "      <td>0</td>\n",
       "      <td>NaN</td>\n",
       "      <td>NaN</td>\n",
       "      <td>42.582682</td>\n",
       "      <td>-70.952603</td>\n",
       "      <td>176.30</td>\n",
       "      <td>6</td>\n",
       "      <td>12</td>\n",
       "      <td>Essex County</td>\n",
       "    </tr>\n",
       "    <tr>\n",
       "      <th>385</th>\n",
       "      <td>389</td>\n",
       "      <td>421917006047</td>\n",
       "      <td>Oliver Citywide Academy</td>\n",
       "      <td>4219170.0</td>\n",
       "      <td>Pittsburgh Sd</td>\n",
       "      <td>5/24/2023</td>\n",
       "      <td>2022-2023</td>\n",
       "      <td>2023</td>\n",
       "      <td>7:30 AM</td>\n",
       "      <td>Wednesday</td>\n",
       "      <td>...</td>\n",
       "      <td>0.0</td>\n",
       "      <td>0</td>\n",
       "      <td>NaN</td>\n",
       "      <td>NaN</td>\n",
       "      <td>40.464327</td>\n",
       "      <td>-80.024121</td>\n",
       "      <td>22.63</td>\n",
       "      <td>3</td>\n",
       "      <td>12</td>\n",
       "      <td>Allegheny County</td>\n",
       "    </tr>\n",
       "    <tr>\n",
       "      <th>386</th>\n",
       "      <td>391</td>\n",
       "      <td>260021001494</td>\n",
       "      <td>Michigan Collegiate High School</td>\n",
       "      <td>2600210.0</td>\n",
       "      <td>Conner Creek Academy East</td>\n",
       "      <td>6/5/2023</td>\n",
       "      <td>2022-2023</td>\n",
       "      <td>2023</td>\n",
       "      <td>2:40 PM</td>\n",
       "      <td>Monday</td>\n",
       "      <td>...</td>\n",
       "      <td>0.0</td>\n",
       "      <td>0</td>\n",
       "      <td>handgun</td>\n",
       "      <td>NaN</td>\n",
       "      <td>42.522585</td>\n",
       "      <td>-83.066681</td>\n",
       "      <td>24.84</td>\n",
       "      <td>6</td>\n",
       "      <td>12</td>\n",
       "      <td>Macomb County</td>\n",
       "    </tr>\n",
       "  </tbody>\n",
       "</table>\n",
       "<p>387 rows × 45 columns</p>\n",
       "</div>"
      ],
      "text/plain": [
       "     uid nces_school_id                             school_name  \\\n",
       "0      1   080480000707                   Columbine High School   \n",
       "1      2   220054000422             Scotlandville Middle School   \n",
       "2      3   130441001591                    Heritage High School   \n",
       "3      4   421899003847                John Bartram High School   \n",
       "4      5   250279000225                  Dorchester High School   \n",
       "..   ...            ...                                     ...   \n",
       "382  386   421899007517  E. Washington Rhodes Elementary School   \n",
       "383  387   110003000008                   Roosevelt High School   \n",
       "384  390       00600937                         St. John's Prep   \n",
       "385  389   421917006047                 Oliver Citywide Academy   \n",
       "386  391   260021001494         Michigan Collegiate High School   \n",
       "\n",
       "     nces_district_id                         district_name       date  \\\n",
       "0            804800.0                  Jefferson County R-1  4/20/1999   \n",
       "1           2200540.0  East Baton Rouge Parish School Board  4/22/1999   \n",
       "2           1304410.0                       Rockdale County  5/20/1999   \n",
       "3           4218990.0                  Philadelphia City SD  10/4/1999   \n",
       "4           2502790.0                                Boston  11/3/1999   \n",
       "..                ...                                   ...        ...   \n",
       "382         4218990.0                  Philadelphia City Sd   5/8/2023   \n",
       "383         1100030.0   District Of Columbia Public Schools  5/17/2023   \n",
       "384               NaN                                   NaN  5/22/2023   \n",
       "385         4219170.0                         Pittsburgh Sd  5/24/2023   \n",
       "386         2600210.0             Conner Creek Academy East   6/5/2023   \n",
       "\n",
       "    school_year  year      time day_of_week  ...  \\\n",
       "0     1998-1999  1999  11:19 AM     Tuesday  ...   \n",
       "1     1998-1999  1999  12:30 PM    Thursday  ...   \n",
       "2     1998-1999  1999   8:03 AM    Thursday  ...   \n",
       "3     1999-2000  1999  10:00 AM      Monday  ...   \n",
       "4     1999-2000  1999   7:40 AM   Wednesday  ...   \n",
       "..          ...   ...       ...         ...  ...   \n",
       "382   2022-2023  2023  11:30 AM      Monday  ...   \n",
       "383   2022-2023  2023   2:25 PM   Wednesday  ...   \n",
       "384   2022-2023  2023       NaN      Monday  ...   \n",
       "385   2022-2023  2023   7:30 AM   Wednesday  ...   \n",
       "386   2022-2023  2023   2:40 PM      Monday  ...   \n",
       "\n",
       "    hawaiian_native_pacific_islander resource_officer  \\\n",
       "0                                NaN                1   \n",
       "1                                NaN                0   \n",
       "2                                NaN                1   \n",
       "3                                NaN                1   \n",
       "4                                NaN                0   \n",
       "..                               ...              ...   \n",
       "382                              0.0                0   \n",
       "383                              0.0                0   \n",
       "384                             10.0                0   \n",
       "385                              0.0                0   \n",
       "386                              0.0                0   \n",
       "\n",
       "                                                weapon  \\\n",
       "0    12-gauge Savage-Springfield 67H pump-action sh...   \n",
       "1                                   .22 caliber pistol   \n",
       "2        .22 caliber rifle, 357-caliber Magnum handgun   \n",
       "3                                RG .25-caliber pistol   \n",
       "4                                                  NaN   \n",
       "..                                                 ...   \n",
       "382                                                NaN   \n",
       "383                                                NaN   \n",
       "384                                                NaN   \n",
       "385                                                NaN   \n",
       "386                                            handgun   \n",
       "\n",
       "              weapon_source        lat        long  staffing low_grade  \\\n",
       "0    purchased from friends  39.603910 -105.075000     89.60         9   \n",
       "1                       NaN  30.529958  -91.169966     39.00         6   \n",
       "2                       NaN  33.626922  -84.047960     84.00         9   \n",
       "3     purchased from friend  39.921509  -75.234108     41.00         9   \n",
       "4                       NaN  42.285268  -71.075901       NaN         9   \n",
       "..                      ...        ...         ...       ...       ...   \n",
       "382                     NaN  40.002800  -75.178100     41.37        KG   \n",
       "383                     NaN  38.942971  -77.029177     67.90         9   \n",
       "384                     NaN  42.582682  -70.952603    176.30         6   \n",
       "385                     NaN  40.464327  -80.024121     22.63         3   \n",
       "386                     NaN  42.522585  -83.066681     24.84         6   \n",
       "\n",
       "     high_grade                   county  \n",
       "0            12         Jefferson County  \n",
       "1             8  East Baton Rouge Parish  \n",
       "2            12          Rockdale County  \n",
       "3            12      Philadelphia County  \n",
       "4            12           Suffolk County  \n",
       "..          ...                      ...  \n",
       "382           8      Philadelphia County  \n",
       "383          12     District Of Columbia  \n",
       "384          12             Essex County  \n",
       "385          12         Allegheny County  \n",
       "386          12            Macomb County  \n",
       "\n",
       "[387 rows x 45 columns]"
      ]
     },
     "execution_count": 44,
     "metadata": {},
     "output_type": "execute_result"
    }
   ],
   "source": [
    "school_shootings_df"
   ]
  },
  {
   "cell_type": "markdown",
   "metadata": {},
   "source": [
    "## Exploratory Analysis and Visualization"
   ]
  },
  {
   "cell_type": "markdown",
   "metadata": {},
   "source": [
    "Here we will be using `matplotlib.pyplot` and `seaborn`."
   ]
  },
  {
   "cell_type": "code",
   "execution_count": 45,
   "metadata": {},
   "outputs": [
    {
     "data": {
      "image/png": "[encoded data removed]",
      "text/plain": [
       "<Figure size 648x360 with 1 Axes>"
      ]
     },
     "metadata": {
      "needs_background": "light"
     },
     "output_type": "display_data"
    }
   ],
   "source": [
    "plt.title('Distribution of School Shooters by Age')\n",
    "\n",
    "plt.xlabel('Age')\n",
    "plt.ylabel('Frequency')\n",
    "\n",
    "plt.hist(school_shootings_df.age_shooter1, bins=np.arange(5,80,5));\n"
   ]
  },
  {
   "cell_type": "markdown",
   "metadata": {},
   "source": [
    "We can see that the age of school shooters lie in the range 5-75 and the majority of them are in the range 15-20. "
   ]
  },
  {
   "cell_type": "markdown",
   "metadata": {},
   "source": [
    "### Gender Distribution"
   ]
  },
  {
   "cell_type": "code",
   "execution_count": 46,
   "metadata": {},
   "outputs": [
    {
     "data": {
      "image/png": "[encoded data removed]",
      "text/plain": [
       "<Figure size 648x360 with 1 Axes>"
      ]
     },
     "metadata": {},
     "output_type": "display_data"
    }
   ],
   "source": [
    "gender = ['male', 'female']\n",
    "colors = ['DeepSkyBlue', 'Crimson']\n",
    "\n",
    "plt.title('Gender Distribution')\n",
    "plt.pie(gender_counts, labels = gender, autopct='%.1f%%', startangle=15, explode = (0, 0.1), colors = colors);"
   ]
  },
  {
   "cell_type": "markdown",
   "metadata": {},
   "source": [
    "Over 95% of the shooters were male. "
   ]
  },
  {
   "cell_type": "markdown",
   "metadata": {},
   "source": [
    "### School type distribution"
   ]
  },
  {
   "cell_type": "code",
   "execution_count": 47,
   "metadata": {},
   "outputs": [
    {
     "data": {
      "image/png": "[encoded data removed]",
      "text/plain": [
       "<Figure size 648x360 with 1 Axes>"
      ]
     },
     "metadata": {},
     "output_type": "display_data"
    }
   ],
   "source": [
    "school_type = ['public', 'private']\n",
    "colors = ['Gold', 'LightCoral']\n",
    "\n",
    "plt.title('School Type Distribution')\n",
    "plt.pie(schools_type_counts, labels = school_type, autopct='%.1f%%', startangle=15, explode = (0, 0.1), colors = colors);"
   ]
  },
  {
   "cell_type": "markdown",
   "metadata": {},
   "source": [
    "Over 93% of the targeted schools were public. "
   ]
  },
  {
   "cell_type": "markdown",
   "metadata": {},
   "source": [
    "### Student Enrollment Distribution"
   ]
  },
  {
   "cell_type": "code",
   "execution_count": 48,
   "metadata": {},
   "outputs": [
    {
     "data": {
      "text/plain": [
       "141448.0"
      ]
     },
     "execution_count": 48,
     "metadata": {},
     "output_type": "execute_result"
    }
   ],
   "source": [
    "white_df = school_shootings_df['white'].sum()\n",
    "white_df"
   ]
  },
  {
   "cell_type": "code",
   "execution_count": 49,
   "metadata": {},
   "outputs": [
    {
     "data": {
      "text/plain": [
       "133610.0"
      ]
     },
     "execution_count": 49,
     "metadata": {},
     "output_type": "execute_result"
    }
   ],
   "source": [
    "black_df = school_shootings_df['black'].sum()\n",
    "black_df"
   ]
  },
  {
   "cell_type": "code",
   "execution_count": 50,
   "metadata": {},
   "outputs": [
    {
     "data": {
      "text/plain": [
       "0      112\n",
       "1        0\n",
       "2       28\n",
       "3       27\n",
       "4      287\n",
       "      ... \n",
       "382     20\n",
       "383    354\n",
       "384    140\n",
       "385      2\n",
       "386      2\n",
       "Name: hispanic, Length: 387, dtype: object"
      ]
     },
     "execution_count": 50,
     "metadata": {},
     "output_type": "execute_result"
    }
   ],
   "source": [
    "hispanic_df = school_shootings_df['hispanic']\n",
    "hispanic_df"
   ]
  },
  {
   "cell_type": "markdown",
   "metadata": {},
   "source": [
    "Notice that the data type for this column is object. We need to change the data type to float in order to use the `sum` method. "
   ]
  },
  {
   "cell_type": "code",
   "execution_count": 51,
   "metadata": {},
   "outputs": [
    {
     "data": {
      "text/plain": [
       "0      112.0\n",
       "1        0.0\n",
       "2       28.0\n",
       "3       27.0\n",
       "4      287.0\n",
       "       ...  \n",
       "382     20.0\n",
       "383    354.0\n",
       "384    140.0\n",
       "385      2.0\n",
       "386      2.0\n",
       "Name: hispanic, Length: 387, dtype: float64"
      ]
     },
     "execution_count": 51,
     "metadata": {},
     "output_type": "execute_result"
    }
   ],
   "source": [
    "hispanic_df_float = hispanic_df.astype(float) \n",
    "hispanic_df_float"
   ]
  },
  {
   "cell_type": "code",
   "execution_count": 52,
   "metadata": {},
   "outputs": [
    {
     "data": {
      "text/plain": [
       "107939.0"
      ]
     },
     "execution_count": 52,
     "metadata": {},
     "output_type": "execute_result"
    }
   ],
   "source": [
    "hispanic_df_sum = hispanic_df_float.sum()\n",
    "hispanic_df_sum"
   ]
  },
  {
   "cell_type": "code",
   "execution_count": 53,
   "metadata": {},
   "outputs": [
    {
     "data": {
      "text/plain": [
       "14571.0"
      ]
     },
     "execution_count": 53,
     "metadata": {},
     "output_type": "execute_result"
    }
   ],
   "source": [
    "asian_df = school_shootings_df['asian'].sum()\n",
    "asian_df"
   ]
  },
  {
   "cell_type": "code",
   "execution_count": 54,
   "metadata": {},
   "outputs": [
    {
     "data": {
      "text/plain": [
       "3172.0"
      ]
     },
     "execution_count": 54,
     "metadata": {},
     "output_type": "execute_result"
    }
   ],
   "source": [
    "ai_df = school_shootings_df['american_indian_alaska_native'].sum()\n",
    "ai_df"
   ]
  },
  {
   "cell_type": "code",
   "execution_count": 55,
   "metadata": {},
   "outputs": [
    {
     "data": {
      "text/plain": [
       "1314.0"
      ]
     },
     "execution_count": 55,
     "metadata": {},
     "output_type": "execute_result"
    }
   ],
   "source": [
    "hn_df = school_shootings_df['hawaiian_native_pacific_islander'].sum()\n",
    "hn_df"
   ]
  },
  {
   "cell_type": "code",
   "execution_count": 56,
   "metadata": {},
   "outputs": [
    {
     "data": {
      "text/plain": [
       "402054.0"
      ]
     },
     "execution_count": 56,
     "metadata": {},
     "output_type": "execute_result"
    }
   ],
   "source": [
    "# Total student enrollment population where the shootings took place from 1999-2023\n",
    "\n",
    "white_df + black_df + hispanic_df_sum + asian_df + ai_df + hn_df"
   ]
  },
  {
   "cell_type": "code",
   "execution_count": 57,
   "metadata": {},
   "outputs": [
    {
     "data": {
      "text/plain": [
       "[141448.0, 133610.0, 107939.0, 14571.0, 3172.0, 1314.0]"
      ]
     },
     "execution_count": 57,
     "metadata": {},
     "output_type": "execute_result"
    }
   ],
   "source": [
    "# Define a list for each total enrollment by race\n",
    "\n",
    "sum_race = [white_df, black_df, hispanic_df_sum, asian_df, ai_df, hn_df]\n",
    "sum_race"
   ]
  },
  {
   "cell_type": "code",
   "execution_count": 58,
   "metadata": {},
   "outputs": [
    {
     "data": {
      "image/png": "[encoded data removed]",
      "text/plain": [
       "<Figure size 648x360 with 1 Axes>"
      ]
     },
     "metadata": {},
     "output_type": "display_data"
    }
   ],
   "source": [
    "race = ['White', 'Black', 'Hispanic', 'Asian', 'American Indian/Alaska Native', 'Native Hawaiians/Pacific Islander']\n",
    "sns.set_style('whitegrid')\n",
    "\n",
    "plt.title('Total Student Enrollment by Race from 1999 to 2023')\n",
    "plt.xlabel('Population')\n",
    "plt.ylabel('Race')\n",
    "plt.barh(race, sum_race);"
   ]
  },
  {
   "cell_type": "markdown",
   "metadata": {},
   "source": [
    "The horizontal bar graph shows the total population by race for every targeted school from 1999 to 2023."
   ]
  },
  {
   "cell_type": "markdown",
   "metadata": {},
   "source": [
    "### School Type Distribution"
   ]
  },
  {
   "cell_type": "code",
   "execution_count": 59,
   "metadata": {},
   "outputs": [
    {
     "data": {
      "image/png": "[encoded data removed]",
      "text/plain": [
       "<Figure size 720x360 with 1 Axes>"
      ]
     },
     "metadata": {},
     "output_type": "display_data"
    }
   ],
   "source": [
    "plt.figure(figsize=(10, 5))\n",
    "plt.title('Number of Casualties Per Year')\n",
    "\n",
    "sns.scatterplot(x=school_shootings_df.year, y=school_shootings_df.casualties, hue=school_shootings_df.school_type);"
   ]
  },
  {
   "cell_type": "markdown",
   "metadata": {},
   "source": [
    "Here we can see that the majority of the school shooting incidents involved having 0-5 people killed or injured, and many of the targeted schools were public. "
   ]
  },
  {
   "cell_type": "code",
   "execution_count": 60,
   "metadata": {},
   "outputs": [
    {
     "data": {
      "image/png": "[encoded data removed]",
      "text/plain": [
       "<Figure size 648x360 with 1 Axes>"
      ]
     },
     "metadata": {},
     "output_type": "display_data"
    }
   ],
   "source": [
    "plt.title('Average Casualties Throughout the Week')\n",
    "sns.barplot(x=school_shootings_df.day_of_week, y=school_shootings_df.casualties, hue=school_shootings_df.school_type);"
   ]
  },
  {
   "cell_type": "markdown",
   "metadata": {},
   "source": [
    "This bar chart visualizes the average casualties for every day of the week the attack occurred. The lines cutting each bar represent the amount of variation in the values. It seems like the variation for the total number of casualties is relatively high on Monday for private schools. There is no variation on Wednesday for private schools. "
   ]
  },
  {
   "cell_type": "markdown",
   "metadata": {},
   "source": [
    "### Distribution of Deaths by Shooting Type"
   ]
  },
  {
   "cell_type": "code",
   "execution_count": 61,
   "metadata": {},
   "outputs": [],
   "source": [
    "indiscriminate_df = school_shootings_df[school_shootings_df.shooting_type == 'indiscriminate']\n",
    "targeted_df = school_shootings_df[school_shootings_df.shooting_type == 'targeted']\n",
    "accidental_df = school_shootings_df[school_shootings_df.shooting_type == 'accidental']\n",
    "uncleared_df = school_shootings_df[school_shootings_df.shooting_type == 'unclear']"
   ]
  },
  {
   "cell_type": "code",
   "execution_count": 62,
   "metadata": {},
   "outputs": [
    {
     "data": {
      "image/png": "[encoded data removed]",
      "text/plain": [
       "<Figure size 720x360 with 1 Axes>"
      ]
     },
     "metadata": {},
     "output_type": "display_data"
    }
   ],
   "source": [
    "plt.figure(figsize=(10, 5))\n",
    "plt.title('Distribution of Deaths by Shooting Type')\n",
    "plt.xlabel('Number of Deaths')\n",
    "plt.ylabel('Number of Shooting Incidents')\n",
    "\n",
    "plt.hist([indiscriminate_df.killed, targeted_df.killed, accidental_df.killed, uncleared_df.killed], bins=np.arange(1,30,1), stacked=True);\n",
    "\n",
    "plt.legend(['indiscriminate', 'targeted', 'accidental', 'unclear']);"
   ]
  },
  {
   "cell_type": "markdown",
   "metadata": {},
   "source": [
    "In this histogram, we can see that many school shooting incidents have zero deaths. Many of these school shooting incidents were targeted. The highest number of deaths in a single shooting incident so far is over 25, and that came from Sandy Hook Elementary School shooting. "
   ]
  },
  {
   "cell_type": "markdown",
   "metadata": {},
   "source": [
    "### Plotting multiple charts in a grid "
   ]
  },
  {
   "cell_type": "code",
   "execution_count": 63,
   "metadata": {},
   "outputs": [
    {
     "data": {
      "image/png": "[encoded data removed]",
      "text/plain": [
       "<Figure size 1800x1080 with 6 Axes>"
      ]
     },
     "metadata": {},
     "output_type": "display_data"
    }
   ],
   "source": [
    "fig, axes = plt.subplots(2,3, figsize=(25, 15))\n",
    "\n",
    "# Use the axes for plotting\n",
    "\n",
    "axes[0,0].set_title('Distribution of School Shooters by Age')\n",
    "axes[0,0].hist(school_shootings_df.age_shooter1, bins=np.arange(5,80,5))\n",
    "\n",
    "\n",
    "gender = ['male', 'female']\n",
    "colors = ['DeepSkyBlue', 'Crimson']\n",
    "axes[0,1].set_title('Gender Distribution')\n",
    "axes[0,1].pie(gender_counts, labels = gender, autopct='%.1f%%', startangle=15, explode = (0, 0.1), colors = colors)\n",
    "\n",
    "\n",
    "school_type = ['public', 'private']\n",
    "colors = ['Gold', 'LightCoral']\n",
    "axes[0,2].set_title('School Type Distribution')\n",
    "axes[0,2].pie(schools_type_counts, labels = school_type, autopct='%.1f%%', startangle=15, explode = (0, 0.1), colors = colors)\n",
    "\n",
    "\n",
    "race = ['White', 'Black', 'Hispanic', 'Asian', 'American Indian/Alaska Native', 'Native Hawaiians/Pacific Islander']\n",
    "sns.set_style('whitegrid')\n",
    "axes[1,0].set_title('Total Student Enrollment by Race from 1999 to 2023')\n",
    "axes[1,0].set(xlabel='Population', ylabel='Race')\n",
    "axes[1,0].barh(race, sum_race)\n",
    "\n",
    "\n",
    "axes[1,1].set_title('Number of Casualties Per Year')\n",
    "sns.scatterplot(x=school_shootings_df.year, y=school_shootings_df.casualties, hue=school_shootings_df.school_type, ax=axes[1,1])\n",
    "\n",
    "\n",
    "axes[1,2].set_title('Distribution of Deaths by Shooting Type')\n",
    "axes[1,2].hist([indiscriminate_df.killed, targeted_df.killed, accidental_df.killed, uncleared_df.killed], bins=np.arange(1,30,1), stacked=True);\n",
    "axes[1,2].set(xlabel='Number of Deaths',ylabel= 'Number of Shooting Incidents')\n",
    "axes[1,2].legend(['indiscriminate', 'targeted', 'accidental', 'unclear']);"
   ]
  },
  {
   "cell_type": "markdown",
   "metadata": {},
   "source": [
    "## Asking and Answering Questions"
   ]
  },
  {
   "cell_type": "markdown",
   "metadata": {},
   "source": [
    "### Q1: What are the top 5 states that have the most shooting incidents?"
   ]
  },
  {
   "cell_type": "code",
   "execution_count": 64,
   "metadata": {},
   "outputs": [
    {
     "data": {
      "text/html": [
       "<div>\n",
       "<style scoped>\n",
       "    .dataframe tbody tr th:only-of-type {\n",
       "        vertical-align: middle;\n",
       "    }\n",
       "\n",
       "    .dataframe tbody tr th {\n",
       "        vertical-align: top;\n",
       "    }\n",
       "\n",
       "    .dataframe thead th {\n",
       "        text-align: right;\n",
       "    }\n",
       "</style>\n",
       "<table border=\"1\" class=\"dataframe\">\n",
       "  <thead>\n",
       "    <tr style=\"text-align: right;\">\n",
       "      <th></th>\n",
       "      <th>state</th>\n",
       "    </tr>\n",
       "  </thead>\n",
       "  <tbody>\n",
       "    <tr>\n",
       "      <th>California</th>\n",
       "      <td>40</td>\n",
       "    </tr>\n",
       "    <tr>\n",
       "      <th>Texas</th>\n",
       "      <td>25</td>\n",
       "    </tr>\n",
       "    <tr>\n",
       "      <th>Florida</th>\n",
       "      <td>24</td>\n",
       "    </tr>\n",
       "    <tr>\n",
       "      <th>North Carolina</th>\n",
       "      <td>21</td>\n",
       "    </tr>\n",
       "    <tr>\n",
       "      <th>Pennsylvania</th>\n",
       "      <td>17</td>\n",
       "    </tr>\n",
       "  </tbody>\n",
       "</table>\n",
       "</div>"
      ],
      "text/plain": [
       "                state\n",
       "California         40\n",
       "Texas              25\n",
       "Florida            24\n",
       "North Carolina     21\n",
       "Pennsylvania       17"
      ]
     },
     "execution_count": 64,
     "metadata": {},
     "output_type": "execute_result"
    }
   ],
   "source": [
    "top_five = school_shootings_df.state.value_counts().head(5)\n",
    "df = pd.DataFrame(top_five)\n",
    "df"
   ]
  },
  {
   "cell_type": "markdown",
   "metadata": {},
   "source": [
    "### Q2: How many school districts have more than one shooting incident?"
   ]
  },
  {
   "cell_type": "code",
   "execution_count": 65,
   "metadata": {},
   "outputs": [
    {
     "data": {
      "text/html": [
       "<div>\n",
       "<style scoped>\n",
       "    .dataframe tbody tr th:only-of-type {\n",
       "        vertical-align: middle;\n",
       "    }\n",
       "\n",
       "    .dataframe tbody tr th {\n",
       "        vertical-align: top;\n",
       "    }\n",
       "\n",
       "    .dataframe thead th {\n",
       "        text-align: right;\n",
       "    }\n",
       "</style>\n",
       "<table border=\"1\" class=\"dataframe\">\n",
       "  <thead>\n",
       "    <tr style=\"text-align: right;\">\n",
       "      <th></th>\n",
       "      <th>district_name</th>\n",
       "    </tr>\n",
       "  </thead>\n",
       "  <tbody>\n",
       "    <tr>\n",
       "      <th>Los Angeles Unified</th>\n",
       "      <td>True</td>\n",
       "    </tr>\n",
       "    <tr>\n",
       "      <th>City Of Chicago Sd 299</th>\n",
       "      <td>True</td>\n",
       "    </tr>\n",
       "    <tr>\n",
       "      <th>Philadelphia City SD</th>\n",
       "      <td>True</td>\n",
       "    </tr>\n",
       "    <tr>\n",
       "      <th>Charlotte-Mecklenburg Schools</th>\n",
       "      <td>True</td>\n",
       "    </tr>\n",
       "    <tr>\n",
       "      <th>Mobile County</th>\n",
       "      <td>True</td>\n",
       "    </tr>\n",
       "    <tr>\n",
       "      <th>...</th>\n",
       "      <td>...</td>\n",
       "    </tr>\n",
       "    <tr>\n",
       "      <th>Newtown School District</th>\n",
       "      <td>False</td>\n",
       "    </tr>\n",
       "    <tr>\n",
       "      <th>Taft Union High</th>\n",
       "      <td>False</td>\n",
       "    </tr>\n",
       "    <tr>\n",
       "      <th>Winston Salem/Forsyth County Schools</th>\n",
       "      <td>False</td>\n",
       "    </tr>\n",
       "    <tr>\n",
       "      <th>Austin ISD</th>\n",
       "      <td>False</td>\n",
       "    </tr>\n",
       "    <tr>\n",
       "      <th>Conner Creek Academy East</th>\n",
       "      <td>False</td>\n",
       "    </tr>\n",
       "  </tbody>\n",
       "</table>\n",
       "<p>308 rows × 1 columns</p>\n",
       "</div>"
      ],
      "text/plain": [
       "                                      district_name\n",
       "Los Angeles Unified                            True\n",
       "City Of Chicago Sd 299                         True\n",
       "Philadelphia City SD                           True\n",
       "Charlotte-Mecklenburg Schools                  True\n",
       "Mobile County                                  True\n",
       "...                                             ...\n",
       "Newtown School District                       False\n",
       "Taft Union High                               False\n",
       "Winston Salem/Forsyth County Schools          False\n",
       "Austin ISD                                    False\n",
       "Conner Creek Academy East                     False\n",
       "\n",
       "[308 rows x 1 columns]"
      ]
     },
     "execution_count": 65,
     "metadata": {},
     "output_type": "execute_result"
    }
   ],
   "source": [
    "at_least_two = school_shootings_df['district_name'].value_counts() >= 2\n",
    "df = pd.DataFrame(at_least_two)\n",
    "df"
   ]
  },
  {
   "cell_type": "code",
   "execution_count": 66,
   "metadata": {},
   "outputs": [
    {
     "data": {
      "text/html": [
       "<div>\n",
       "<style scoped>\n",
       "    .dataframe tbody tr th:only-of-type {\n",
       "        vertical-align: middle;\n",
       "    }\n",
       "\n",
       "    .dataframe tbody tr th {\n",
       "        vertical-align: top;\n",
       "    }\n",
       "\n",
       "    .dataframe thead th {\n",
       "        text-align: right;\n",
       "    }\n",
       "</style>\n",
       "<table border=\"1\" class=\"dataframe\">\n",
       "  <thead>\n",
       "    <tr style=\"text-align: right;\">\n",
       "      <th></th>\n",
       "      <th>district_name</th>\n",
       "    </tr>\n",
       "  </thead>\n",
       "  <tbody>\n",
       "    <tr>\n",
       "      <th>Los Angeles Unified</th>\n",
       "      <td>True</td>\n",
       "    </tr>\n",
       "    <tr>\n",
       "      <th>City Of Chicago Sd 299</th>\n",
       "      <td>True</td>\n",
       "    </tr>\n",
       "    <tr>\n",
       "      <th>Philadelphia City SD</th>\n",
       "      <td>True</td>\n",
       "    </tr>\n",
       "    <tr>\n",
       "      <th>Charlotte-Mecklenburg Schools</th>\n",
       "      <td>True</td>\n",
       "    </tr>\n",
       "    <tr>\n",
       "      <th>Mobile County</th>\n",
       "      <td>True</td>\n",
       "    </tr>\n",
       "    <tr>\n",
       "      <th>Baltimore City Public Schools</th>\n",
       "      <td>True</td>\n",
       "    </tr>\n",
       "    <tr>\n",
       "      <th>Clark County School District</th>\n",
       "      <td>True</td>\n",
       "    </tr>\n",
       "    <tr>\n",
       "      <th>Portsmouth City Pblc Schs</th>\n",
       "      <td>True</td>\n",
       "    </tr>\n",
       "    <tr>\n",
       "      <th>Pittsburgh Sd</th>\n",
       "      <td>True</td>\n",
       "    </tr>\n",
       "    <tr>\n",
       "      <th>Columbus City School District</th>\n",
       "      <td>True</td>\n",
       "    </tr>\n",
       "    <tr>\n",
       "      <th>District Of Columbia Public Schools</th>\n",
       "      <td>True</td>\n",
       "    </tr>\n",
       "    <tr>\n",
       "      <th>Montgomery County</th>\n",
       "      <td>True</td>\n",
       "    </tr>\n",
       "    <tr>\n",
       "      <th>Duval</th>\n",
       "      <td>True</td>\n",
       "    </tr>\n",
       "    <tr>\n",
       "      <th>Detroit City School District</th>\n",
       "      <td>True</td>\n",
       "    </tr>\n",
       "    <tr>\n",
       "      <th>Oakland Unified School District</th>\n",
       "      <td>True</td>\n",
       "    </tr>\n",
       "    <tr>\n",
       "      <th>Albuquerque Public Schools</th>\n",
       "      <td>True</td>\n",
       "    </tr>\n",
       "    <tr>\n",
       "      <th>Fulton County</th>\n",
       "      <td>True</td>\n",
       "    </tr>\n",
       "    <tr>\n",
       "      <th>District Of Columbia Pub Schls</th>\n",
       "      <td>True</td>\n",
       "    </tr>\n",
       "    <tr>\n",
       "      <th>Atlanta Public Schools</th>\n",
       "      <td>True</td>\n",
       "    </tr>\n",
       "    <tr>\n",
       "      <th>Prince George's County Public Schools</th>\n",
       "      <td>True</td>\n",
       "    </tr>\n",
       "    <tr>\n",
       "      <th>Houston ISD</th>\n",
       "      <td>True</td>\n",
       "    </tr>\n",
       "    <tr>\n",
       "      <th>Orange</th>\n",
       "      <td>True</td>\n",
       "    </tr>\n",
       "    <tr>\n",
       "      <th>Dade</th>\n",
       "      <td>True</td>\n",
       "    </tr>\n",
       "    <tr>\n",
       "      <th>Knox County</th>\n",
       "      <td>True</td>\n",
       "    </tr>\n",
       "    <tr>\n",
       "      <th>Dekalb County</th>\n",
       "      <td>True</td>\n",
       "    </tr>\n",
       "    <tr>\n",
       "      <th>Horry 01</th>\n",
       "      <td>True</td>\n",
       "    </tr>\n",
       "    <tr>\n",
       "      <th>Orleans Parish School Board</th>\n",
       "      <td>True</td>\n",
       "    </tr>\n",
       "    <tr>\n",
       "      <th>Gary Community School Corp</th>\n",
       "      <td>True</td>\n",
       "    </tr>\n",
       "    <tr>\n",
       "      <th>Birmingham City</th>\n",
       "      <td>True</td>\n",
       "    </tr>\n",
       "    <tr>\n",
       "      <th>Shelby County</th>\n",
       "      <td>True</td>\n",
       "    </tr>\n",
       "    <tr>\n",
       "      <th>Memphis City School District</th>\n",
       "      <td>True</td>\n",
       "    </tr>\n",
       "    <tr>\n",
       "      <th>Broward</th>\n",
       "      <td>True</td>\n",
       "    </tr>\n",
       "    <tr>\n",
       "      <th>Grossmont Union High</th>\n",
       "      <td>True</td>\n",
       "    </tr>\n",
       "  </tbody>\n",
       "</table>\n",
       "</div>"
      ],
      "text/plain": [
       "                                       district_name\n",
       "Los Angeles Unified                             True\n",
       "City Of Chicago Sd 299                          True\n",
       "Philadelphia City SD                            True\n",
       "Charlotte-Mecklenburg Schools                   True\n",
       "Mobile County                                   True\n",
       "Baltimore City Public Schools                   True\n",
       "Clark County School District                    True\n",
       "Portsmouth City Pblc Schs                       True\n",
       "Pittsburgh Sd                                   True\n",
       "Columbus City School District                   True\n",
       "District Of Columbia Public Schools             True\n",
       "Montgomery County                               True\n",
       "Duval                                           True\n",
       "Detroit City School District                    True\n",
       "Oakland Unified School District                 True\n",
       "Albuquerque Public Schools                      True\n",
       "Fulton County                                   True\n",
       "District Of Columbia Pub Schls                  True\n",
       "Atlanta Public Schools                          True\n",
       "Prince George's County Public Schools           True\n",
       "Houston ISD                                     True\n",
       "Orange                                          True\n",
       "Dade                                            True\n",
       "Knox County                                     True\n",
       "Dekalb County                                   True\n",
       "Horry 01                                        True\n",
       "Orleans Parish School Board                     True\n",
       "Gary Community School Corp                      True\n",
       "Birmingham City                                 True\n",
       "Shelby County                                   True\n",
       "Memphis City School District                    True\n",
       "Broward                                         True\n",
       "Grossmont Union High                            True"
      ]
     },
     "execution_count": 66,
     "metadata": {},
     "output_type": "execute_result"
    }
   ],
   "source": [
    "df.loc[df['district_name'] == True]"
   ]
  },
  {
   "cell_type": "code",
   "execution_count": 67,
   "metadata": {},
   "outputs": [
    {
     "data": {
      "text/plain": [
       "district_name    33\n",
       "dtype: int64"
      ]
     },
     "execution_count": 67,
     "metadata": {},
     "output_type": "execute_result"
    }
   ],
   "source": [
    "df.loc[df['district_name'] == True].count()"
   ]
  },
  {
   "cell_type": "markdown",
   "metadata": {},
   "source": [
    "### Q3: Which year has the most deaths, injuries, and casualties? "
   ]
  },
  {
   "cell_type": "code",
   "execution_count": 68,
   "metadata": {},
   "outputs": [
    {
     "data": {
      "text/html": [
       "<div>\n",
       "<style scoped>\n",
       "    .dataframe tbody tr th:only-of-type {\n",
       "        vertical-align: middle;\n",
       "    }\n",
       "\n",
       "    .dataframe tbody tr th {\n",
       "        vertical-align: top;\n",
       "    }\n",
       "\n",
       "    .dataframe thead th {\n",
       "        text-align: right;\n",
       "    }\n",
       "</style>\n",
       "<table border=\"1\" class=\"dataframe\">\n",
       "  <thead>\n",
       "    <tr style=\"text-align: right;\">\n",
       "      <th></th>\n",
       "      <th>killed</th>\n",
       "      <th>injured</th>\n",
       "      <th>casualties</th>\n",
       "    </tr>\n",
       "    <tr>\n",
       "      <th>year</th>\n",
       "      <th></th>\n",
       "      <th></th>\n",
       "      <th></th>\n",
       "    </tr>\n",
       "  </thead>\n",
       "  <tbody>\n",
       "    <tr>\n",
       "      <th>1999</th>\n",
       "      <td>14</td>\n",
       "      <td>35</td>\n",
       "      <td>49</td>\n",
       "    </tr>\n",
       "    <tr>\n",
       "      <th>2000</th>\n",
       "      <td>4</td>\n",
       "      <td>3</td>\n",
       "      <td>7</td>\n",
       "    </tr>\n",
       "    <tr>\n",
       "      <th>2001</th>\n",
       "      <td>5</td>\n",
       "      <td>22</td>\n",
       "      <td>27</td>\n",
       "    </tr>\n",
       "    <tr>\n",
       "      <th>2002</th>\n",
       "      <td>1</td>\n",
       "      <td>7</td>\n",
       "      <td>8</td>\n",
       "    </tr>\n",
       "    <tr>\n",
       "      <th>2003</th>\n",
       "      <td>5</td>\n",
       "      <td>8</td>\n",
       "      <td>13</td>\n",
       "    </tr>\n",
       "    <tr>\n",
       "      <th>2004</th>\n",
       "      <td>3</td>\n",
       "      <td>9</td>\n",
       "      <td>12</td>\n",
       "    </tr>\n",
       "    <tr>\n",
       "      <th>2005</th>\n",
       "      <td>9</td>\n",
       "      <td>17</td>\n",
       "      <td>26</td>\n",
       "    </tr>\n",
       "    <tr>\n",
       "      <th>2006</th>\n",
       "      <td>9</td>\n",
       "      <td>16</td>\n",
       "      <td>25</td>\n",
       "    </tr>\n",
       "    <tr>\n",
       "      <th>2007</th>\n",
       "      <td>1</td>\n",
       "      <td>17</td>\n",
       "      <td>18</td>\n",
       "    </tr>\n",
       "    <tr>\n",
       "      <th>2008</th>\n",
       "      <td>5</td>\n",
       "      <td>5</td>\n",
       "      <td>10</td>\n",
       "    </tr>\n",
       "    <tr>\n",
       "      <th>2009</th>\n",
       "      <td>1</td>\n",
       "      <td>4</td>\n",
       "      <td>5</td>\n",
       "    </tr>\n",
       "    <tr>\n",
       "      <th>2010</th>\n",
       "      <td>3</td>\n",
       "      <td>6</td>\n",
       "      <td>9</td>\n",
       "    </tr>\n",
       "    <tr>\n",
       "      <th>2011</th>\n",
       "      <td>2</td>\n",
       "      <td>9</td>\n",
       "      <td>11</td>\n",
       "    </tr>\n",
       "    <tr>\n",
       "      <th>2012</th>\n",
       "      <td>32</td>\n",
       "      <td>8</td>\n",
       "      <td>40</td>\n",
       "    </tr>\n",
       "    <tr>\n",
       "      <th>2013</th>\n",
       "      <td>3</td>\n",
       "      <td>13</td>\n",
       "      <td>16</td>\n",
       "    </tr>\n",
       "    <tr>\n",
       "      <th>2014</th>\n",
       "      <td>6</td>\n",
       "      <td>14</td>\n",
       "      <td>20</td>\n",
       "    </tr>\n",
       "    <tr>\n",
       "      <th>2015</th>\n",
       "      <td>0</td>\n",
       "      <td>2</td>\n",
       "      <td>2</td>\n",
       "    </tr>\n",
       "    <tr>\n",
       "      <th>2016</th>\n",
       "      <td>2</td>\n",
       "      <td>18</td>\n",
       "      <td>20</td>\n",
       "    </tr>\n",
       "    <tr>\n",
       "      <th>2017</th>\n",
       "      <td>5</td>\n",
       "      <td>16</td>\n",
       "      <td>21</td>\n",
       "    </tr>\n",
       "    <tr>\n",
       "      <th>2018</th>\n",
       "      <td>33</td>\n",
       "      <td>62</td>\n",
       "      <td>95</td>\n",
       "    </tr>\n",
       "    <tr>\n",
       "      <th>2019</th>\n",
       "      <td>4</td>\n",
       "      <td>20</td>\n",
       "      <td>24</td>\n",
       "    </tr>\n",
       "    <tr>\n",
       "      <th>2020</th>\n",
       "      <td>1</td>\n",
       "      <td>5</td>\n",
       "      <td>6</td>\n",
       "    </tr>\n",
       "    <tr>\n",
       "      <th>2021</th>\n",
       "      <td>9</td>\n",
       "      <td>36</td>\n",
       "      <td>45</td>\n",
       "    </tr>\n",
       "    <tr>\n",
       "      <th>2022</th>\n",
       "      <td>34</td>\n",
       "      <td>58</td>\n",
       "      <td>92</td>\n",
       "    </tr>\n",
       "    <tr>\n",
       "      <th>2023</th>\n",
       "      <td>10</td>\n",
       "      <td>19</td>\n",
       "      <td>29</td>\n",
       "    </tr>\n",
       "  </tbody>\n",
       "</table>\n",
       "</div>"
      ],
      "text/plain": [
       "      killed  injured  casualties\n",
       "year                             \n",
       "1999      14       35          49\n",
       "2000       4        3           7\n",
       "2001       5       22          27\n",
       "2002       1        7           8\n",
       "2003       5        8          13\n",
       "2004       3        9          12\n",
       "2005       9       17          26\n",
       "2006       9       16          25\n",
       "2007       1       17          18\n",
       "2008       5        5          10\n",
       "2009       1        4           5\n",
       "2010       3        6           9\n",
       "2011       2        9          11\n",
       "2012      32        8          40\n",
       "2013       3       13          16\n",
       "2014       6       14          20\n",
       "2015       0        2           2\n",
       "2016       2       18          20\n",
       "2017       5       16          21\n",
       "2018      33       62          95\n",
       "2019       4       20          24\n",
       "2020       1        5           6\n",
       "2021       9       36          45\n",
       "2022      34       58          92\n",
       "2023      10       19          29"
      ]
     },
     "execution_count": 68,
     "metadata": {},
     "output_type": "execute_result"
    }
   ],
   "source": [
    "kic = school_shootings_df.groupby('year')[['killed','injured','casualties']].sum()\n",
    "kic"
   ]
  },
  {
   "cell_type": "code",
   "execution_count": 69,
   "metadata": {},
   "outputs": [
    {
     "data": {
      "text/html": [
       "<div>\n",
       "<style scoped>\n",
       "    .dataframe tbody tr th:only-of-type {\n",
       "        vertical-align: middle;\n",
       "    }\n",
       "\n",
       "    .dataframe tbody tr th {\n",
       "        vertical-align: top;\n",
       "    }\n",
       "\n",
       "    .dataframe thead th {\n",
       "        text-align: right;\n",
       "    }\n",
       "</style>\n",
       "<table border=\"1\" class=\"dataframe\">\n",
       "  <thead>\n",
       "    <tr style=\"text-align: right;\">\n",
       "      <th></th>\n",
       "      <th>killed</th>\n",
       "      <th>injured</th>\n",
       "      <th>casualties</th>\n",
       "    </tr>\n",
       "    <tr>\n",
       "      <th>year</th>\n",
       "      <th></th>\n",
       "      <th></th>\n",
       "      <th></th>\n",
       "    </tr>\n",
       "  </thead>\n",
       "  <tbody>\n",
       "    <tr>\n",
       "      <th>2022</th>\n",
       "      <td>34</td>\n",
       "      <td>58</td>\n",
       "      <td>92</td>\n",
       "    </tr>\n",
       "  </tbody>\n",
       "</table>\n",
       "</div>"
      ],
      "text/plain": [
       "      killed  injured  casualties\n",
       "year                             \n",
       "2022      34       58          92"
      ]
     },
     "execution_count": 69,
     "metadata": {},
     "output_type": "execute_result"
    }
   ],
   "source": [
    "kic[kic.killed == kic.killed.max()]"
   ]
  },
  {
   "cell_type": "code",
   "execution_count": 70,
   "metadata": {},
   "outputs": [
    {
     "data": {
      "text/html": [
       "<div>\n",
       "<style scoped>\n",
       "    .dataframe tbody tr th:only-of-type {\n",
       "        vertical-align: middle;\n",
       "    }\n",
       "\n",
       "    .dataframe tbody tr th {\n",
       "        vertical-align: top;\n",
       "    }\n",
       "\n",
       "    .dataframe thead th {\n",
       "        text-align: right;\n",
       "    }\n",
       "</style>\n",
       "<table border=\"1\" class=\"dataframe\">\n",
       "  <thead>\n",
       "    <tr style=\"text-align: right;\">\n",
       "      <th></th>\n",
       "      <th>killed</th>\n",
       "      <th>injured</th>\n",
       "      <th>casualties</th>\n",
       "    </tr>\n",
       "    <tr>\n",
       "      <th>year</th>\n",
       "      <th></th>\n",
       "      <th></th>\n",
       "      <th></th>\n",
       "    </tr>\n",
       "  </thead>\n",
       "  <tbody>\n",
       "    <tr>\n",
       "      <th>2018</th>\n",
       "      <td>33</td>\n",
       "      <td>62</td>\n",
       "      <td>95</td>\n",
       "    </tr>\n",
       "  </tbody>\n",
       "</table>\n",
       "</div>"
      ],
      "text/plain": [
       "      killed  injured  casualties\n",
       "year                             \n",
       "2018      33       62          95"
      ]
     },
     "execution_count": 70,
     "metadata": {},
     "output_type": "execute_result"
    }
   ],
   "source": [
    "kic[kic.injured == kic.injured.max()]"
   ]
  },
  {
   "cell_type": "code",
   "execution_count": 71,
   "metadata": {},
   "outputs": [
    {
     "data": {
      "text/html": [
       "<div>\n",
       "<style scoped>\n",
       "    .dataframe tbody tr th:only-of-type {\n",
       "        vertical-align: middle;\n",
       "    }\n",
       "\n",
       "    .dataframe tbody tr th {\n",
       "        vertical-align: top;\n",
       "    }\n",
       "\n",
       "    .dataframe thead th {\n",
       "        text-align: right;\n",
       "    }\n",
       "</style>\n",
       "<table border=\"1\" class=\"dataframe\">\n",
       "  <thead>\n",
       "    <tr style=\"text-align: right;\">\n",
       "      <th></th>\n",
       "      <th>killed</th>\n",
       "      <th>injured</th>\n",
       "      <th>casualties</th>\n",
       "    </tr>\n",
       "    <tr>\n",
       "      <th>year</th>\n",
       "      <th></th>\n",
       "      <th></th>\n",
       "      <th></th>\n",
       "    </tr>\n",
       "  </thead>\n",
       "  <tbody>\n",
       "    <tr>\n",
       "      <th>2018</th>\n",
       "      <td>33</td>\n",
       "      <td>62</td>\n",
       "      <td>95</td>\n",
       "    </tr>\n",
       "  </tbody>\n",
       "</table>\n",
       "</div>"
      ],
      "text/plain": [
       "      killed  injured  casualties\n",
       "year                             \n",
       "2018      33       62          95"
      ]
     },
     "execution_count": 71,
     "metadata": {},
     "output_type": "execute_result"
    }
   ],
   "source": [
    "kic[kic.casualties == kic.casualties.max()]"
   ]
  },
  {
   "cell_type": "markdown",
   "metadata": {},
   "source": [
    "### Q4a: Out of all school shooters who died, how many of them reportedly died by suicide?"
   ]
  },
  {
   "cell_type": "code",
   "execution_count": 72,
   "metadata": {},
   "outputs": [
    {
     "data": {
      "text/plain": [
       "40"
      ]
     },
     "execution_count": 72,
     "metadata": {},
     "output_type": "execute_result"
    }
   ],
   "source": [
    "deceased_df = school_shootings_df[school_shootings_df['shooter_deceased1'] == 1]\n",
    "total_deceased = deceased_df['shooter_deceased1'].count()\n",
    "total_deceased"
   ]
  },
  {
   "cell_type": "code",
   "execution_count": 73,
   "metadata": {},
   "outputs": [
    {
     "data": {
      "text/plain": [
       "35"
      ]
     },
     "execution_count": 73,
     "metadata": {},
     "output_type": "execute_result"
    }
   ],
   "source": [
    "suicide_df = deceased_df[deceased_df['deceased_notes1'] == 'suicide']\n",
    "total_suicide = suicide_df['deceased_notes1'].count()\n",
    "total_suicide"
   ]
  },
  {
   "cell_type": "markdown",
   "metadata": {},
   "source": [
    "### Q4b: what is the percentage of the school shooters who committed suicide?"
   ]
  },
  {
   "cell_type": "code",
   "execution_count": 74,
   "metadata": {},
   "outputs": [],
   "source": [
    "percentage = (total_suicide / total_deceased)*100"
   ]
  },
  {
   "cell_type": "code",
   "execution_count": 75,
   "metadata": {},
   "outputs": [
    {
     "name": "stdout",
     "output_type": "stream",
     "text": [
      "87.5% of the school shooters' deaths were by suicide\n"
     ]
    }
   ],
   "source": [
    "print('{}% of the school shooters\\' deaths were by suicide'.format(percentage))"
   ]
  },
  {
   "cell_type": "markdown",
   "metadata": {},
   "source": [
    "### Q5: Graph the total number of deaths, injuries, and casualties across the years"
   ]
  },
  {
   "cell_type": "code",
   "execution_count": 76,
   "metadata": {},
   "outputs": [
    {
     "data": {
      "image/png": "[encoded data removed]",
      "text/plain": [
       "<Figure size 648x360 with 1 Axes>"
      ]
     },
     "metadata": {},
     "output_type": "display_data"
    }
   ],
   "source": [
    "plt.title('Total Number of Deaths, Injuries, and Casualties per year')\n",
    "plt.xlabel('Year')\n",
    "plt.ylabel('Frequency')\n",
    "\n",
    "plt.plot(kic.killed, 's-r')\n",
    "plt.plot(kic.injured, 'o--m')\n",
    "plt.plot(kic.casualties, 'P-b')\n",
    "\n",
    "plt.legend(['Deaths', 'Injuries', 'Casualties']);"
   ]
  },
  {
   "cell_type": "markdown",
   "metadata": {},
   "source": [
    "Based on the graph, it looks like there are many more total deaths, injuries, and casualties in the recent decade. Let's answer a couple of questions to confirm my hypothesis. "
   ]
  },
  {
   "cell_type": "markdown",
   "metadata": {},
   "source": [
    "#### How many total number of deaths, injuries, and casualties are there between 1999-2011?"
   ]
  },
  {
   "cell_type": "code",
   "execution_count": 77,
   "metadata": {},
   "outputs": [
    {
     "name": "stdout",
     "output_type": "stream",
     "text": [
      "The total number of deaths from 1999 to 2011 is 62\n",
      "The total number of injuries from 1999 to 2011 is 158\n",
      "The total number of casualties from 1999 to 2011 is 220\n"
     ]
    }
   ],
   "source": [
    "year_count = [i for i in range(1999, 2012)]\n",
    "count_in_range = school_shootings_df.loc[school_shootings_df['year'].isin(year_count)]\n",
    "\n",
    "deaths = sum(count_in_range.killed)\n",
    "injuries = sum(count_in_range.injured)\n",
    "casualties = sum(count_in_range.casualties)\n",
    "\n",
    "print('The total number of deaths from 1999 to 2011 is', deaths)\n",
    "print('The total number of injuries from 1999 to 2011 is', injuries)\n",
    "print('The total number of casualties from 1999 to 2011 is', casualties)"
   ]
  },
  {
   "cell_type": "markdown",
   "metadata": {},
   "source": [
    "#### How many total number of deaths, injuries, and casualties are there between 2012-2023?"
   ]
  },
  {
   "cell_type": "code",
   "execution_count": 78,
   "metadata": {},
   "outputs": [
    {
     "name": "stdout",
     "output_type": "stream",
     "text": [
      "The total number of deaths from 2012 to 2023 is 139\n",
      "The total number of injuries from 2012 to 2023 is 271\n",
      "The total number of casualties from 2012 to 2023 is 410\n"
     ]
    }
   ],
   "source": [
    "year_count = [i for i in range(2012, 2024)]\n",
    "count_in_range = school_shootings_df.loc[school_shootings_df['year'].isin(year_count)]\n",
    "\n",
    "deaths = sum(count_in_range.killed)\n",
    "injuries = sum(count_in_range.injured)\n",
    "casualties = sum(count_in_range.casualties)\n",
    "\n",
    "print('The total number of deaths from 2012 to 2023 is', deaths)\n",
    "print('The total number of injuries from 2012 to 2023 is', injuries)\n",
    "print('The total number of casualties from 2012 to 2023 is', casualties)"
   ]
  },
  {
   "cell_type": "markdown",
   "metadata": {},
   "source": [
    "## Inferences and Conclusion\n",
    "\n",
    "Based on the above analysis from the dataset, we can infer that\n",
    "\n",
    "- There are an overwhelming number of shooting incidents committed by the age range between 15 and 20. Most of them were students at the targeted school.    \n",
    "\n",
    "- The majority of the shooters were male; 95.5% of shooters were male and 4.5% were female. \n",
    "\n",
    "- The majority of the targeted schools were public; 93.8% of schools were public and 6.2% were private. \n",
    "\n",
    "- California has the most school shooting incidents with a total number of 40. \n",
    "\n",
    "- There are 33 school districts that have at least 2 school shooting incidents. \n",
    "\n",
    "- The distribution of the line graph for the total number of deaths, injuries, and casualties is mostly left skewed. Meaning that there have been more victims of school shootings in the recent decade than in the first decade since the Columbine High School massacre. There are more than twice the number of deaths between 2012 and 2023 than the number of deaths between 1999 and 2011. So far, 2018 is the deadliest year for school shootings as it has the highest number of injuries and casualties. School shootings are very likely to get even more dangerous from this point forward as the number of victims increases.   \n"
   ]
  },
  {
   "cell_type": "markdown",
   "metadata": {},
   "source": [
    "## References and Future Work\n",
    "\n",
    "Reference:\n",
    "\n",
    "- For using Pandas: https://pandas.pydata.org/\n",
    "- For creating bars - specifically horizonatal bars: https://www.w3schools.com/python/matplotlib_bars.asp \n",
    "- For creating grouped barplots with seaborn: https://seaborn.pydata.org/examples/grouped_barplot.html\n",
    "- For creating pie charts: https://www.w3schools.com/python/matplotlib_pie_charts.asp\n",
    "- For creating scatter plots with seaborn: https://seaborn.pydata.org/examples/scatter_bubbles.html\n",
    "\n",
    "Future Work:\n",
    "\n",
    "There are many improvements we can make to this project with the help of additional tools and datasets. Here are some of the things we can do to enhance this project even better:\n",
    "\n",
    "- Use an additional dataset for shooting incidents at universities. Analyze and compare it with this dataset.\n",
    "- Find out which month is the most active for school shootings. \n",
    "- Analyze if there is a correlation between mental illness and school shootings by using data gathered from perpetrators who survived the shootings.  \n",
    "- Predict the number of school shootings in the next few years with machine learning models. "
   ]
  },
  {
   "cell_type": "code",
   "execution_count": 79,
   "metadata": {},
   "outputs": [],
   "source": [
    "import jovian"
   ]
  },
  {
   "cell_type": "code",
   "execution_count": 80,
   "metadata": {},
   "outputs": [
    {
     "data": {
      "application/javascript": [
       "window.require && require([\"base/js/namespace\"],function(Jupyter){Jupyter.notebook.save_checkpoint()})"
      ],
      "text/plain": [
       "<IPython.core.display.Javascript object>"
      ]
     },
     "metadata": {},
     "output_type": "display_data"
    },
    {
     "name": "stdout",
     "output_type": "stream",
     "text": [
      "[jovian] Updating notebook \"jhzone777228812/school-shootings-in-us\" on https://jovian.com\u001b[0m\n",
      "[jovian] Committed successfully! https://jovian.com/jhzone777228812/school-shootings-in-us\u001b[0m\n"
     ]
    },
    {
     "data": {
      "text/plain": [
       "'https://jovian.com/jhzone777228812/school-shootings-in-us'"
      ]
     },
     "execution_count": 80,
     "metadata": {},
     "output_type": "execute_result"
    }
   ],
   "source": [
    "jovian.commit()"
   ]
  },
  {
   "cell_type": "markdown",
   "metadata": {},
   "source": [
    "Here is the link to the dataset: https://www.kaggle.com/datasets/joebeachcapital/school-shootings"
   ]
  }
 ],
 "metadata": {
  "language_info": {
   "codemirror_mode": {
    "name": "ipython",
    "version": 3
   },
   "file_extension": ".py",
   "mimetype": "text/x-python",
   "name": "python",
   "nbconvert_exporter": "python",
   "pygments_lexer": "ipython3",
   "version": "3.9.7"
  }
 },
 "nbformat": 4,
 "nbformat_minor": 4
}